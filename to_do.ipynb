{
 "cells": [
  {
   "cell_type": "markdown",
   "metadata": {},
   "source": [
    "# To Do List:"
   ]
  },
  {
   "cell_type": "markdown",
   "metadata": {},
   "source": [
    "## Plot Data:\n",
    "- [x] Plot basic data on the features.\n",
    "\n",
    "## Modify Features:\n",
    "- [x] First Replacment of data:\n",
    "    - NaN to missing\n",
    "    - Boolean to 0,1\n",
    "    - Asymmetrique Index - Replace the low,mid,high with 1,2,3.\n",
    "- [ ] Lead Source : \n",
    "    - google to Google\n",
    "    - less then 50 to Other\n",
    "- [x] Countries - Split the feature to India and Other\n",
    "- [x] How did you hear about X Education - Missing to Other\n",
    "- [x] What matters most to you in choosing a course - Missing to Other\n",
    "- [x] Lead Profile - Missing to Other Leads\n",
    "- [x] City - Missing to Other Cities.\n",
    "\n",
    "- [ ] TotalVisits - Missing to Avg (Or use model)\n",
    "- [ ] Page Views Per Visit - Missing to Avg (Or use model)\n",
    "\n",
    "\n",
    "- [ ] Asymmetrique Features (???)\n",
    "- [ ] Create Featuers:\n",
    "    - Other\n",
    "    - Multiple Sources\n",
    "    - Social Media\n",
    "    - Direct Advertisement\n",
    "- [ ] Merge:\n",
    "    - Magazine + Newspaper Article + Newspaper => Newspaper.  \n",
    "- [ ] Map How did you hear about X Education (XE) to Features:\n",
    "    - Online Search => Search\n",
    "    - Word Of Mouth, Student of SomeSchool => Through Recommendations\n",
    "    - Other => (new feature) Other\n",
    "    - Multiple Sources => (new feature) Multiple Sources\n",
    "    - Advertisements => Digital Advertisement\n",
    "    - Social Media => (new feature) Social Media\n",
    "    - SMS, Email => (new feature) Direct Advertisement\n",
    "\n",
    "\n",
    "## Drop: \n",
    "- [ ] \"Receive More Updates About Our Courses\" -> All \"No\", useless.\n",
    "- [ ] \"Lead Number\" -> Will not give us insights.\n",
    "- [ ] (?) \"City\" -> Lot's of \"other\" and missing data.\n",
    "- [ ] (?) \"Last Activity\" -> Duplicated.\n"
   ]
  },
  {
   "cell_type": "code",
   "execution_count": null,
   "metadata": {},
   "outputs": [],
   "source": []
  }
 ],
 "metadata": {
  "kernelspec": {
   "display_name": "Python 3",
   "language": "python",
   "name": "python3"
  },
  "language_info": {
   "codemirror_mode": {
    "name": "ipython",
    "version": 3
   },
   "file_extension": ".py",
   "mimetype": "text/x-python",
   "name": "python",
   "nbconvert_exporter": "python",
   "pygments_lexer": "ipython3",
   "version": "3.8.5"
  }
 },
 "nbformat": 4,
 "nbformat_minor": 4
}
