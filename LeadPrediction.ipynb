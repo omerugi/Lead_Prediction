{
 "cells": [
  {
   "cell_type": "markdown",
   "metadata": {
    "pycharm": {
     "name": "#%% md\n"
    }
   },
   "source": [
    "# Lead Prediction"
   ]
  },
  {
   "cell_type": "code",
   "execution_count": 189,
   "metadata": {
    "pycharm": {
     "name": "#%%\n"
    }
   },
   "outputs": [],
   "source": [
    "'''<<<<Imports>>>>'''\n",
    "import numpy as np\n",
    "import pandas as pd\n",
    "import pickle\n",
    "\n",
    "import matplotlib.pyplot as plt\n",
    "import seaborn as sns\n",
    "sns.set_theme(style=\"darkgrid\")\n",
    "sns.set(font_scale=1.3)\n",
    "\n",
    "from sklearn.impute import KNNImputer\n",
    "from sklearn.preprocessing import OneHotEncoder\n",
    "from sklearn.decomposition import PCA\n",
    "from sklearn.linear_model import LogisticRegression\n",
    "\n",
    "from sklearn.metrics import classification_report, confusion_matrix, accuracy_score\n",
    "from sklearn.model_selection import GridSearchCV, RandomizedSearchCV, train_test_split\n",
    "import joblib\n",
    "\n",
    "from var import *\n",
    "import warnings\n",
    "warnings.filterwarnings('ignore')"
   ]
  },
  {
   "cell_type": "code",
   "execution_count": 190,
   "metadata": {},
   "outputs": [
    {
     "name": "stdout",
     "output_type": "stream",
     "text": [
      "True\n"
     ]
    }
   ],
   "source": [
    "print(IS_TEST_MODE)"
   ]
  },
  {
   "cell_type": "markdown",
   "metadata": {
    "pycharm": {
     "name": "#%% md\n"
    }
   },
   "source": [
    "## Notebook:\n",
    "\n",
    "#### Plot:\n",
    "*(The plots are active only in test mode)*\n",
    "\n",
    "Functions:\n",
    "- [Single featuer plot](#plt0)\n",
    "- [Multi featuer plot](#plt1)\n",
    "- [Missing featuer print](#plt2)\n",
    "\n",
    "Features plotting: (The plots are after replacing NaN values)\n",
    "- [\"Converted\"](#cell0)\n",
    "- [\"City\"](#cell1)\n",
    "- [\"Country\"](#cell2)\n",
    "- [\"What is your current occupation\"](#cell3)\n",
    "- [\"Receive More Updates About Our Courses\"](#cell4)\n",
    "- [\"Do Not Email\"](#cell5)\n",
    "- [\"Do Not Call\"](#cell6)\n",
    "- [\"All Features Related To \"How did you hear about us\"](#cell7)\n",
    "- [\"Asymmetrique Features\"](#cell8)\n",
    "\n",
    "General:\n",
    "- [\"Missing Data\"](general0)\n",
    "\n",
    "#### Data Engineering:\n",
    "\n",
    "- [Read data](#data0)\n",
    "\n",
    "First step - Replace NaN values and Encode features:\n",
    "- [NaN](#replace1) - Replace NaN with a \"nan_replacment\" var. (can be modifiyed).\n",
    "- [Boolean Encoding](#replace2) - Replace Bool with 0's and 1's.\n",
    "- [Asymmetrique Index Encoding](#replace3) - Replace the low, mid, and high with 1,2,3.\n",
    "- [Lead Quality Encoding](#replace4) - Replace Worst, Low in Relevance, Not Sure, Might be, and High in Relevance with 1-5.\n",
    "- [Step 1 pipline](#replace0) - Will do all the featuer modding in one function to keep the order.\n",
    "\n",
    "Second step - Modify Features:\n",
    "- [Splitting Countries](#mf1) - Because the foucues is on India, the values in the featuer are \"India\" and \"Other\".\n",
    "- [Lead Source Typo + Counter Threshold](#mf2) - Fixing typo \"google\" to \"Google\" + Set threshold of 50 for sourses, otherwise \"Other\".\n",
    "- [Replacing \"nan_replacment\" in features](#mf3) - Each featuer that contain \"nan_replacment\" => Replace with featuer's \"Other\" or default value \"Other\".\n",
    "- [Handling \"How did you hear about us\" featuers](#mf4) - Merging features, creating new ones, and mapping from \"How did you hear.. \" to the new features.\n",
    "- [Drop Features](#mf5) - Dropping fetures that are useless.\n",
    "\n",
    "Third step - Modify Features with models:\n",
    "- [OneHot Encoding](#mf6) - Using OneHot Encoding on all the non-numeric features.\n",
    "- [KNNImputer & Median for haddling Asymmetrique Features](#mf7) - Using the the KNN to find the index values of activity and profile, and using the answer to find the score using median. \n"
   ]
  },
  {
   "cell_type": "markdown",
   "metadata": {},
   "source": [
    "Read data: <a id=\"data0\"></a>"
   ]
  },
  {
   "cell_type": "code",
   "execution_count": 191,
   "metadata": {
    "pycharm": {
     "name": "#%%\n"
    }
   },
   "outputs": [],
   "source": [
    "def get_data(file_name = data_file_name):\n",
    "    return pd.read_csv(data_file_prefix+file_name)"
   ]
  },
  {
   "cell_type": "code",
   "execution_count": 192,
   "metadata": {
    "pycharm": {
     "name": "#%%\n"
    }
   },
   "outputs": [
    {
     "name": "stdout",
     "output_type": "stream",
     "text": [
      "   Lead Number              Lead Origin     Lead Source Do Not Email  \\\n",
      "0       660737                      API      Olark Chat           No   \n",
      "1       660728                      API  Organic Search           No   \n",
      "2       660727  Landing Page Submission  Direct Traffic           No   \n",
      "3       660719  Landing Page Submission  Direct Traffic           No   \n",
      "4       660681  Landing Page Submission          Google           No   \n",
      "\n",
      "  Do Not Call  Converted  TotalVisits  Total Time Spent on Website  \\\n",
      "0          No          0          0.0                            0   \n",
      "1          No          0          5.0                          674   \n",
      "2          No          1          2.0                         1532   \n",
      "3          No          0          1.0                          305   \n",
      "4          No          1          2.0                         1428   \n",
      "\n",
      "   Page Views Per Visit            Last Activity  ...  \\\n",
      "0                   0.0  Page Visited on Website  ...   \n",
      "1                   2.5             Email Opened  ...   \n",
      "2                   2.0             Email Opened  ...   \n",
      "3                   1.0              Unreachable  ...   \n",
      "4                   1.0        Converted to Lead  ...   \n",
      "\n",
      "  Get updates on DM Content    Lead Profile    City  \\\n",
      "0                        No             NaN     NaN   \n",
      "1                        No             NaN     NaN   \n",
      "2                        No  Potential Lead  Mumbai   \n",
      "3                        No             NaN  Mumbai   \n",
      "4                        No             NaN  Mumbai   \n",
      "\n",
      "  Asymmetrique Activity Index Asymmetrique Profile Index  \\\n",
      "0                   02.Medium                  02.Medium   \n",
      "1                   02.Medium                  02.Medium   \n",
      "2                   02.Medium                    01.High   \n",
      "3                   02.Medium                    01.High   \n",
      "4                   02.Medium                    01.High   \n",
      "\n",
      "  Asymmetrique Activity Score Asymmetrique Profile Score  \\\n",
      "0                        15.0                       15.0   \n",
      "1                        15.0                       15.0   \n",
      "2                        14.0                       20.0   \n",
      "3                        13.0                       17.0   \n",
      "4                        15.0                       18.0   \n",
      "\n",
      "  I agree to pay the amount through cheque  \\\n",
      "0                                       No   \n",
      "1                                       No   \n",
      "2                                       No   \n",
      "3                                       No   \n",
      "4                                       No   \n",
      "\n",
      "  A free copy of Mastering The Interview Last Notable Activity  \n",
      "0                                     No              Modified  \n",
      "1                                     No          Email Opened  \n",
      "2                                    Yes          Email Opened  \n",
      "3                                     No              Modified  \n",
      "4                                     No              Modified  \n",
      "\n",
      "[5 rows x 36 columns]\n"
     ]
    }
   ],
   "source": [
    "if IS_TEST_MODE:\n",
    "    raw_df = get_data()\n",
    "    print(raw_df.head(5))"
   ]
  },
  {
   "cell_type": "code",
   "execution_count": 193,
   "metadata": {
    "pycharm": {
     "name": "#%%\n"
    }
   },
   "outputs": [
    {
     "name": "stdout",
     "output_type": "stream",
     "text": [
      "['Lead Source', 'TotalVisits', 'Page Views Per Visit', 'Last Activity', 'How did you hear about X Education', 'What matters most to you in choosing a course', 'Lead Profile', 'City', 'Asymmetrique Activity Index', 'Asymmetrique Profile Index', 'Asymmetrique Activity Score', 'Asymmetrique Profile Score']\n"
     ]
    }
   ],
   "source": [
    "if IS_TEST_MODE:\n",
    "    r_df = get_data()\n",
    "    print(raw_df.columns[raw_df.isin([np.nan]).any()].tolist())"
   ]
  },
  {
   "cell_type": "markdown",
   "metadata": {
    "pycharm": {
     "name": "#%% md\n"
    }
   },
   "source": [
    "### Replace values: "
   ]
  },
  {
   "cell_type": "markdown",
   "metadata": {
    "pycharm": {
     "name": "#%% md\n"
    }
   },
   "source": [
    "Replace NaN: <a id=\"replace1\"></a>"
   ]
  },
  {
   "cell_type": "code",
   "execution_count": 194,
   "metadata": {
    "pycharm": {
     "name": "#%%\n"
    }
   },
   "outputs": [],
   "source": [
    "def replace_nan(df):\n",
    "    '''\n",
    "    The function will replace all NaN / None with the varieble nan_replacment\n",
    "    to fill in all the missing info and avoid issues.\n",
    "    '''\n",
    "    df.apply(lambda x: x if x is not None else nan_replacment)\n",
    "    df = df.fillna(nan_replacment)\n",
    "    return df"
   ]
  },
  {
   "cell_type": "markdown",
   "metadata": {
    "pycharm": {
     "name": "#%% md\n"
    }
   },
   "source": [
    "Replace Boolean: <a id=\"replace2\"></a>"
   ]
  },
  {
   "cell_type": "code",
   "execution_count": 195,
   "metadata": {
    "pycharm": {
     "name": "#%%\n"
    }
   },
   "outputs": [],
   "source": [
    "def replace_bool(df):\n",
    "    '''\n",
    "    Replace bool of \"Yes\"/\"No\" with 1/0 accordingly.\n",
    "    '''\n",
    "    return df.replace(\"No\",0).replace(\"Yes\",1)"
   ]
  },
  {
   "cell_type": "markdown",
   "metadata": {
    "pycharm": {
     "name": "#%% md\n"
    }
   },
   "source": [
    "Replace Asymmetrique Index: <a id=\"replace3\"></a>"
   ]
  },
  {
   "cell_type": "code",
   "execution_count": 196,
   "metadata": {
    "pycharm": {
     "name": "#%%\n"
    }
   },
   "outputs": [],
   "source": [
    "def replace_asy_index(df):\n",
    "    '''\n",
    "    Replace the options in the asy featuers to numeric values,\n",
    "    will make high = 3, mid = 2, and low = 1 to magnitude the higher rank.\n",
    "    '''\n",
    "    return df.replace(\"03.Low\",1).replace(\"02.Medium\",2).replace(\"01.High\",3)"
   ]
  },
  {
   "cell_type": "markdown",
   "metadata": {
    "pycharm": {
     "name": "#%% md\n"
    }
   },
   "source": [
    "Replace Lead Quality: <a id=\"replace4\"></a>"
   ]
  },
  {
   "cell_type": "code",
   "execution_count": 197,
   "metadata": {
    "pycharm": {
     "name": "#%%\n"
    }
   },
   "outputs": [],
   "source": [
    "def replace_lead_quality(df):\n",
    "    '''\n",
    "    Replace options in lead qulity featuer to numeric values,\n",
    "    scaling from the \"worst\" = 1 to \"High in Relevance\" = 5.\n",
    "    '''\n",
    "    return df.replace(\"Worst\",1).replace(\"Low in Relevance\",2).replace(\"Not Sure\",3).replace(\"Might be\",4).replace(\"High in Relevance\",5)"
   ]
  },
  {
   "cell_type": "markdown",
   "metadata": {
    "pycharm": {
     "name": "#%% md\n"
    }
   },
   "source": [
    "Add \"Converted\": <a id=\"replace5\"></a>"
   ]
  },
  {
   "cell_type": "code",
   "execution_count": 198,
   "metadata": {
    "pycharm": {
     "name": "#%%\n"
    }
   },
   "outputs": [],
   "source": [
    "def add_converted_label(df):\n",
    "    '''\n",
    "    Will add converted to the data to keep the dataframe shape.\n",
    "    '''\n",
    "    if \"Converted\" not in df.columns:\n",
    "        df[\"Converted\"] = -1\n",
    "    return df"
   ]
  },
  {
   "cell_type": "markdown",
   "metadata": {
    "pycharm": {
     "name": "#%% md\n"
    }
   },
   "source": [
    "Step 1 pipline replace All: <a id=\"replace0\"></a>"
   ]
  },
  {
   "cell_type": "code",
   "execution_count": 199,
   "metadata": {
    "pycharm": {
     "name": "#%%\n"
    }
   },
   "outputs": [],
   "source": [
    "def step_1_pipline(df):\n",
    "    '''\n",
    "    This it the pipeline to use when predicting on a new sample,\n",
    "    the function will run all the above functions + will reset the indexs\n",
    "    so the dataframe will always be indexed the same, on testing and when running.\n",
    "    '''\n",
    "    return add_converted_label(replace_lead_quality(replace_asy_index(replace_bool(replace_nan(df))))).reset_index(drop=True)\n",
    "\n",
    "def get_step_1_data(file_name = data_step_1):\n",
    "    '''\n",
    "    This function is for testing and to train models fast on knowen data,\n",
    "    it will first try to find a CSV file with the data processed after this steps pipline,\n",
    "    and if it won't find it, will then get the original data run the pipline + save it for later use,\n",
    "    then return the data after this steps pipline.\n",
    "    '''\n",
    "    try: \n",
    "        df = pd.read_csv(data_file_prefix+file_name)\n",
    "    except:\n",
    "        df = step_1_pipline(get_data())\n",
    "        df.to_csv(data_file_prefix+file_name,index=False)\n",
    "    return df\n"
   ]
  },
  {
   "cell_type": "code",
   "execution_count": 200,
   "metadata": {
    "pycharm": {
     "name": "#%%\n"
    }
   },
   "outputs": [
    {
     "name": "stdout",
     "output_type": "stream",
     "text": [
      "(9240, 36)\n"
     ]
    }
   ],
   "source": [
    "if IS_TEST_MODE:\n",
    "    r_df = get_step_1_data()\n",
    "    print(r_df.shape)"
   ]
  },
  {
   "cell_type": "code",
   "execution_count": 201,
   "metadata": {
    "pycharm": {
     "name": "#%%\n"
    }
   },
   "outputs": [
    {
     "name": "stdout",
     "output_type": "stream",
     "text": [
      "Index(['Lead Number', 'Lead Origin', 'Lead Source', 'Do Not Email',\n",
      "       'Do Not Call', 'Converted', 'TotalVisits',\n",
      "       'Total Time Spent on Website', 'Page Views Per Visit', 'Last Activity',\n",
      "       'Country', 'Specialization', 'How did you hear about X Education',\n",
      "       'What is your current occupation',\n",
      "       'What matters most to you in choosing a course', 'Search', 'Magazine',\n",
      "       'Newspaper Article', 'X Education Forums', 'Newspaper',\n",
      "       'Digital Advertisement', 'Through Recommendations',\n",
      "       'Receive More Updates About Our Courses', 'Tags', 'Lead Quality',\n",
      "       'Update me on Supply Chain Content', 'Get updates on DM Content',\n",
      "       'Lead Profile', 'City', 'Asymmetrique Activity Index',\n",
      "       'Asymmetrique Profile Index', 'Asymmetrique Activity Score',\n",
      "       'Asymmetrique Profile Score',\n",
      "       'I agree to pay the amount through cheque',\n",
      "       'A free copy of Mastering The Interview', 'Last Notable Activity'],\n",
      "      dtype='object') (9240, 36)\n"
     ]
    }
   ],
   "source": [
    "if IS_TEST_MODE:\n",
    "    raw_df = step_1_pipline(raw_df)\n",
    "    print(raw_df.columns,raw_df.shape)"
   ]
  },
  {
   "cell_type": "markdown",
   "metadata": {
    "pycharm": {
     "name": "#%% md\n"
    }
   },
   "source": [
    "### Data Ploting:"
   ]
  },
  {
   "cell_type": "markdown",
   "metadata": {},
   "source": [
    "Single featuer plot: <a id=\"plt0\"></a>"
   ]
  },
  {
   "cell_type": "code",
   "execution_count": 202,
   "metadata": {
    "pycharm": {
     "name": "#%%\n"
    }
   },
   "outputs": [],
   "source": [
    "def plot_featuer(df, featuer, use_hue = True):\n",
    "    '''\n",
    "    Plot a single featuer's data.\n",
    "    use_hue = will flag if we want to plot the featuer's options.\n",
    "    '''\n",
    "    print(\"Are there any NaN values: \",nan_replacment in df[featuer].unique())\n",
    "    print(\"Number of unique values: \",df[featuer].nunique())\n",
    "    print(\"Unique values count:\\n\",df[featuer].value_counts())\n",
    "    if use_hue:\n",
    "        ax = sns.countplot(x=featuer,hue=featuer, data=df)\n",
    "    else:\n",
    "        ax = sns.countplot(x=featuer, data=df)"
   ]
  },
  {
   "cell_type": "markdown",
   "metadata": {},
   "source": [
    "Multi featuer plot: <a id=\"plt1\"></a>"
   ]
  },
  {
   "cell_type": "code",
   "execution_count": 251,
   "metadata": {
    "pycharm": {
     "name": "#%%\n"
    }
   },
   "outputs": [],
   "source": [
    "def plot_multiple_feature(df, featuers_lst, use_hue = True):\n",
    "    '''\n",
    "    Plot multiple featuers.\n",
    "    '''\n",
    "    for featuer in featuers_lst:\n",
    "        plot_featuer(df,featuer, use_hue)\n",
    "        plt.show()"
   ]
  },
  {
   "cell_type": "markdown",
   "metadata": {},
   "source": [
    "Featuers with missing data: <a id=\"plt2\"></a>"
   ]
  },
  {
   "cell_type": "code",
   "execution_count": 216,
   "metadata": {
    "pycharm": {
     "name": "#%%\n"
    }
   },
   "outputs": [],
   "source": [
    "def feature_with_missing_data(df):\n",
    "    '''\n",
    "    Will print out the featuers with missing data.\n",
    "    '''\n",
    "    for feature in raw_df.columns[raw_df.isin([nan_replacment]).any()].tolist():\n",
    "        print(f\"\\\"{feature}\\\" missing data:\")\n",
    "        print(\"Number of unique values: \",df[feature].nunique())\n",
    "        print(f\"Number of {nan_replacment} values: \", (df[feature] == nan_replacment).sum())\n",
    "        print(\"Unique values count:\\n\",df[feature].value_counts())\n",
    "        print(\"-----------------------------------------------\")"
   ]
  },
  {
   "cell_type": "markdown",
   "metadata": {
    "pycharm": {
     "name": "#%% md\n"
    }
   },
   "source": [
    "Plotting Converted: <a id=\"cell0\"></a>"
   ]
  },
  {
   "cell_type": "code",
   "execution_count": 204,
   "metadata": {
    "pycharm": {
     "name": "#%%\n"
    }
   },
   "outputs": [
    {
     "name": "stdout",
     "output_type": "stream",
     "text": [
      "Converted:\n",
      "Are there any NaN values:  False\n",
      "Number of unique values:  2\n",
      "Unique values count:\n",
      " 0    5679\n",
      "1    3561\n",
      "Name: Converted, dtype: int64\n"
     ]
    },
    {
     "data": {
      "image/png": "[encoded data removed]",
      "text/plain": [
       "<Figure size 432x288 with 1 Axes>"
      ]
     },
     "metadata": {},
     "output_type": "display_data"
    }
   ],
   "source": [
    "if IS_TEST_MODE:\n",
    "    print(\"Converted:\")\n",
    "    plot_featuer(raw_df, \"Converted\")"
   ]
  },
  {
   "cell_type": "markdown",
   "metadata": {
    "pycharm": {
     "name": "#%% md\n"
    }
   },
   "source": [
    "Plotting Cities: <a id=\"cell1\"></a>"
   ]
  },
  {
   "cell_type": "code",
   "execution_count": 205,
   "metadata": {
    "pycharm": {
     "name": "#%%\n"
    }
   },
   "outputs": [
    {
     "name": "stdout",
     "output_type": "stream",
     "text": [
      "Cities of leads:\n",
      "Are there any NaN values:  True\n",
      "Number of unique values:  7\n",
      "Unique values count:\n",
      " Missing                        3669\n",
      "Mumbai                         3222\n",
      "Thane & Outskirts               752\n",
      "Other Cities                    686\n",
      "Other Cities of Maharashtra     457\n",
      "Other Metro Cities              380\n",
      "Tier II Cities                   74\n",
      "Name: City, dtype: int64\n"
     ]
    },
    {
     "data": {
      "image/png": "[encoded data removed]",
      "text/plain": [
       "<Figure size 432x288 with 1 Axes>"
      ]
     },
     "metadata": {},
     "output_type": "display_data"
    }
   ],
   "source": [
    "if IS_TEST_MODE:\n",
    "    print(\"Cities of leads:\")\n",
    "    plot_featuer(raw_df, \"City\")"
   ]
  },
  {
   "cell_type": "markdown",
   "metadata": {
    "pycharm": {
     "name": "#%% md\n"
    }
   },
   "source": [
    "Plotting Country: <a id=\"cell2\"></a>"
   ]
  },
  {
   "cell_type": "code",
   "execution_count": 206,
   "metadata": {
    "pycharm": {
     "name": "#%%\n"
    }
   },
   "outputs": [
    {
     "name": "stdout",
     "output_type": "stream",
     "text": [
      "Country of leads:\n",
      "Are there any NaN values:  False\n",
      "Number of unique values:  38\n",
      "Unique values count:\n",
      " India                   8953\n",
      "United States             69\n",
      "United Arab Emirates      53\n",
      "Singapore                 24\n",
      "Saudi Arabia              21\n",
      "United Kingdom            15\n",
      "Australia                 13\n",
      "Qatar                     10\n",
      "Bahrain                    7\n",
      "Hong Kong                  7\n",
      "Oman                       6\n",
      "France                     6\n",
      "unknown                    5\n",
      "Nigeria                    4\n",
      "Canada                     4\n",
      "Germany                    4\n",
      "Kuwait                     4\n",
      "South Africa               4\n",
      "Sweden                     3\n",
      "Belgium                    2\n",
      "Philippines                2\n",
      "Uganda                     2\n",
      "Netherlands                2\n",
      "Bangladesh                 2\n",
      "Ghana                      2\n",
      "Asia/Pacific Region        2\n",
      "China                      2\n",
      "Italy                      2\n",
      "Malaysia                   1\n",
      "Switzerland                1\n",
      "Indonesia                  1\n",
      "Vietnam                    1\n",
      "Tanzania                   1\n",
      "Kenya                      1\n",
      "Russia                     1\n",
      "Liberia                    1\n",
      "Sri Lanka                  1\n",
      "Denmark                    1\n",
      "Name: Country, dtype: int64\n"
     ]
    },
    {
     "data": {
      "image/png": "[encoded data removed]",
      "text/plain": [
       "<Figure size 432x288 with 1 Axes>"
      ]
     },
     "metadata": {},
     "output_type": "display_data"
    }
   ],
   "source": [
    "if IS_TEST_MODE:\n",
    "    print(\"Country of leads:\")\n",
    "    plot_featuer(raw_df, \"Country\", False)"
   ]
  },
  {
   "cell_type": "markdown",
   "metadata": {
    "pycharm": {
     "name": "#%% md\n"
    }
   },
   "source": [
    "Plotting What is your current occupation: <a id=\"cell3\"></a>"
   ]
  },
  {
   "cell_type": "code",
   "execution_count": 207,
   "metadata": {
    "pycharm": {
     "name": "#%%\n"
    }
   },
   "outputs": [
    {
     "name": "stdout",
     "output_type": "stream",
     "text": [
      "What is your current occupation:\n",
      "Are there any NaN values:  False\n",
      "Number of unique values:  6\n",
      "Unique values count:\n",
      " Unemployed              8290\n",
      "Working Professional     706\n",
      "Student                  210\n",
      "Other                     16\n",
      "Housewife                 10\n",
      "Businessman                8\n",
      "Name: What is your current occupation, dtype: int64\n"
     ]
    },
    {
     "data": {
      "image/png": "[encoded data removed]",
      "text/plain": [
       "<Figure size 432x288 with 1 Axes>"
      ]
     },
     "metadata": {},
     "output_type": "display_data"
    }
   ],
   "source": [
    "if IS_TEST_MODE:\n",
    "    print(\"What is your current occupation:\")\n",
    "    plot_featuer(raw_df, \"What is your current occupation\")"
   ]
  },
  {
   "cell_type": "markdown",
   "metadata": {
    "pycharm": {
     "name": "#%% md\n"
    }
   },
   "source": [
    "Plotting Receive More Updates About Our Courses: <a id=\"cell4\"></a>"
   ]
  },
  {
   "cell_type": "code",
   "execution_count": 208,
   "metadata": {
    "pycharm": {
     "name": "#%%\n"
    }
   },
   "outputs": [
    {
     "name": "stdout",
     "output_type": "stream",
     "text": [
      "Receive More Updates About Our Courses:\n",
      "Are there any NaN values:  False\n",
      "Number of unique values:  1\n",
      "Unique values count:\n",
      " 0    9240\n",
      "Name: Receive More Updates About Our Courses, dtype: int64\n"
     ]
    },
    {
     "data": {
      "image/png": "[encoded data removed]",
      "text/plain": [
       "<Figure size 432x288 with 1 Axes>"
      ]
     },
     "metadata": {},
     "output_type": "display_data"
    }
   ],
   "source": [
    "if IS_TEST_MODE:\n",
    "    print(\"Receive More Updates About Our Courses:\")\n",
    "    plot_featuer(raw_df, \"Receive More Updates About Our Courses\")"
   ]
  },
  {
   "cell_type": "markdown",
   "metadata": {
    "pycharm": {
     "name": "#%% md\n"
    }
   },
   "source": [
    "Plotting Do Not Email <a id=\"cell5\"></a>"
   ]
  },
  {
   "cell_type": "code",
   "execution_count": 209,
   "metadata": {
    "pycharm": {
     "name": "#%%\n"
    }
   },
   "outputs": [
    {
     "name": "stdout",
     "output_type": "stream",
     "text": [
      "Do Not Email:\n",
      "Are there any NaN values:  False\n",
      "Number of unique values:  2\n",
      "Unique values count:\n",
      " 0    8506\n",
      "1     734\n",
      "Name: Do Not Email, dtype: int64\n"
     ]
    },
    {
     "data": {
      "image/png": "[encoded data removed]",
      "text/plain": [
       "<Figure size 432x288 with 1 Axes>"
      ]
     },
     "metadata": {},
     "output_type": "display_data"
    }
   ],
   "source": [
    "if IS_TEST_MODE:\n",
    "    print(\"Do Not Email:\")\n",
    "    plot_featuer(raw_df, \"Do Not Email\")"
   ]
  },
  {
   "cell_type": "markdown",
   "metadata": {
    "pycharm": {
     "name": "#%% md\n"
    }
   },
   "source": [
    "Plotting Do Not Call <a id=\"cell6\"></a>"
   ]
  },
  {
   "cell_type": "code",
   "execution_count": 210,
   "metadata": {
    "pycharm": {
     "name": "#%%\n"
    }
   },
   "outputs": [
    {
     "name": "stdout",
     "output_type": "stream",
     "text": [
      "Do Not Call:\n",
      "Are there any NaN values:  False\n",
      "Number of unique values:  2\n",
      "Unique values count:\n",
      " 0    9238\n",
      "1       2\n",
      "Name: Do Not Call, dtype: int64\n"
     ]
    },
    {
     "data": {
      "image/png": "[encoded data removed]",
      "text/plain": [
       "<Figure size 432x288 with 1 Axes>"
      ]
     },
     "metadata": {},
     "output_type": "display_data"
    }
   ],
   "source": [
    "if IS_TEST_MODE:\n",
    "    print(\"Do Not Call:\")\n",
    "    plot_featuer(raw_df, \"Do Not Call\")"
   ]
  },
  {
   "cell_type": "markdown",
   "metadata": {
    "pycharm": {
     "name": "#%% md\n"
    }
   },
   "source": [
    "Plotting All Features Related To \"How did you hear about us\": <a id=\"cell7\"></a>"
   ]
  },
  {
   "cell_type": "code",
   "execution_count": 211,
   "metadata": {
    "pycharm": {
     "name": "#%%\n"
    }
   },
   "outputs": [
    {
     "name": "stdout",
     "output_type": "stream",
     "text": [
      "How did you hear about X Education:\n",
      "Are there any NaN values:  True\n",
      "Number of unique values:  10\n",
      "Unique values count:\n",
      " Missing                  7250\n",
      "Online Search             808\n",
      "Word Of Mouth             348\n",
      "Student of SomeSchool     310\n",
      "Other                     186\n",
      "Multiple Sources          152\n",
      "Advertisements             70\n",
      "Social Media               67\n",
      "Email                      26\n",
      "SMS                        23\n",
      "Name: How did you hear about X Education, dtype: int64\n"
     ]
    },
    {
     "data": {
      "image/png": "[encoded data removed]",
      "text/plain": [
       "<Figure size 432x288 with 1 Axes>"
      ]
     },
     "metadata": {},
     "output_type": "display_data"
    }
   ],
   "source": [
    "if IS_TEST_MODE:\n",
    "    print(\"How did you hear about X Education:\")\n",
    "    plot_featuer(raw_df, \"How did you hear about X Education\", False)"
   ]
  },
  {
   "cell_type": "code",
   "execution_count": 212,
   "metadata": {
    "pycharm": {
     "name": "#%%\n"
    }
   },
   "outputs": [
    {
     "name": "stdout",
     "output_type": "stream",
     "text": [
      "Search                     0.001515\n",
      "Magazine                   0.000000\n",
      "Newspaper Article          0.000216\n",
      "X Education Forums         0.000108\n",
      "Newspaper                  0.000108\n",
      "Digital Advertisement      0.000433\n",
      "Through Recommendations    0.000758\n",
      "dtype: float64\n"
     ]
    }
   ],
   "source": [
    "if IS_TEST_MODE:\n",
    "    print(raw_df[['Search', 'Magazine', 'Newspaper Article', 'X Education Forums', 'Newspaper', 'Digital Advertisement', 'Through Recommendations']].mean())"
   ]
  },
  {
   "cell_type": "code",
   "execution_count": 213,
   "metadata": {
    "pycharm": {
     "name": "#%%\n"
    }
   },
   "outputs": [
    {
     "name": "stdout",
     "output_type": "stream",
     "text": [
      "Are there any NaN values:  False\n",
      "Number of unique values:  2\n",
      "Unique values count:\n",
      " 0    9226\n",
      "1      14\n",
      "Name: Search, dtype: int64\n"
     ]
    },
    {
     "data": {
      "image/png": "[encoded data removed]",
      "text/plain": [
       "<Figure size 432x288 with 1 Axes>"
      ]
     },
     "metadata": {},
     "output_type": "display_data"
    },
    {
     "name": "stdout",
     "output_type": "stream",
     "text": [
      "Are there any NaN values:  False\n",
      "Number of unique values:  1\n",
      "Unique values count:\n",
      " 0    9240\n",
      "Name: Magazine, dtype: int64\n"
     ]
    },
    {
     "data": {
      "image/png": "[encoded data removed]",
      "text/plain": [
       "<Figure size 432x288 with 1 Axes>"
      ]
     },
     "metadata": {},
     "output_type": "display_data"
    },
    {
     "name": "stdout",
     "output_type": "stream",
     "text": [
      "Are there any NaN values:  False\n",
      "Number of unique values:  2\n",
      "Unique values count:\n",
      " 0    9238\n",
      "1       2\n",
      "Name: Newspaper Article, dtype: int64\n"
     ]
    },
    {
     "data": {
      "image/png": "[encoded data removed]",
      "text/plain": [
       "<Figure size 432x288 with 1 Axes>"
      ]
     },
     "metadata": {},
     "output_type": "display_data"
    },
    {
     "name": "stdout",
     "output_type": "stream",
     "text": [
      "Are there any NaN values:  False\n",
      "Number of unique values:  2\n",
      "Unique values count:\n",
      " 0    9239\n",
      "1       1\n",
      "Name: X Education Forums, dtype: int64\n"
     ]
    },
    {
     "data": {
      "image/png": "[encoded data removed]",
      "text/plain": [
       "<Figure size 432x288 with 1 Axes>"
      ]
     },
     "metadata": {},
     "output_type": "display_data"
    },
    {
     "name": "stdout",
     "output_type": "stream",
     "text": [
      "Are there any NaN values:  False\n",
      "Number of unique values:  2\n",
      "Unique values count:\n",
      " 0    9239\n",
      "1       1\n",
      "Name: Newspaper, dtype: int64\n"
     ]
    },
    {
     "data": {
      "image/png": "[encoded data removed]",
      "text/plain": [
       "<Figure size 432x288 with 1 Axes>"
      ]
     },
     "metadata": {},
     "output_type": "display_data"
    },
    {
     "name": "stdout",
     "output_type": "stream",
     "text": [
      "Are there any NaN values:  False\n",
      "Number of unique values:  2\n",
      "Unique values count:\n",
      " 0    9236\n",
      "1       4\n",
      "Name: Digital Advertisement, dtype: int64\n"
     ]
    },
    {
     "data": {
      "image/png": "[encoded data removed]",
      "text/plain": [
       "<Figure size 432x288 with 1 Axes>"
      ]
     },
     "metadata": {},
     "output_type": "display_data"
    },
    {
     "name": "stdout",
     "output_type": "stream",
     "text": [
      "Are there any NaN values:  False\n",
      "Number of unique values:  2\n",
      "Unique values count:\n",
      " 0    9233\n",
      "1       7\n",
      "Name: Through Recommendations, dtype: int64\n"
     ]
    },
    {
     "data": {
      "image/png": "[encoded data removed]",
      "text/plain": [
       "<Figure size 432x288 with 1 Axes>"
      ]
     },
     "metadata": {},
     "output_type": "display_data"
    }
   ],
   "source": [
    "if IS_TEST_MODE:\n",
    "    plot_multiple_feature(raw_df,['Search', 'Magazine', 'Newspaper Article', 'X Education Forums', 'Newspaper', 'Digital Advertisement', 'Through Recommendations'])"
   ]
  },
  {
   "cell_type": "markdown",
   "metadata": {
    "pycharm": {
     "name": "#%% md\n"
    }
   },
   "source": [
    " Plotting All Asymmetrique Features: <a id=\"cell8\"></a>"
   ]
  },
  {
   "cell_type": "code",
   "execution_count": 214,
   "metadata": {
    "pycharm": {
     "name": "#%%\n"
    }
   },
   "outputs": [
    {
     "name": "stdout",
     "output_type": "stream",
     "text": [
      "Are there any NaN values:  True\n",
      "Number of unique values:  4\n",
      "Unique values count:\n",
      " Missing    4218\n",
      "2          3839\n",
      "3           821\n",
      "1           362\n",
      "Name: Asymmetrique Activity Index, dtype: int64\n"
     ]
    },
    {
     "data": {
      "image/png": "[encoded data removed]",
      "text/plain": [
       "<Figure size 432x288 with 1 Axes>"
      ]
     },
     "metadata": {},
     "output_type": "display_data"
    },
    {
     "name": "stdout",
     "output_type": "stream",
     "text": [
      "Are there any NaN values:  True\n",
      "Number of unique values:  4\n",
      "Unique values count:\n",
      " Missing    4218\n",
      "2          2788\n",
      "3          2203\n",
      "1            31\n",
      "Name: Asymmetrique Profile Index, dtype: int64\n"
     ]
    },
    {
     "data": {
      "image/png": "[encoded data removed]",
      "text/plain": [
       "<Figure size 432x288 with 1 Axes>"
      ]
     },
     "metadata": {},
     "output_type": "display_data"
    }
   ],
   "source": [
    "if IS_TEST_MODE:\n",
    "    plot_multiple_feature(raw_df,['Asymmetrique Activity Index',\n",
    "       'Asymmetrique Profile Index'])"
   ]
  },
  {
   "cell_type": "code",
   "execution_count": 215,
   "metadata": {
    "pycharm": {
     "name": "#%%\n"
    }
   },
   "outputs": [
    {
     "name": "stdout",
     "output_type": "stream",
     "text": [
      "Are there any NaN values:  True\n",
      "Number of unique values:  13\n",
      "Unique values count:\n",
      " Missing    4218\n",
      "14.0       1771\n",
      "15.0       1293\n",
      "13.0        775\n",
      "16.0        467\n",
      "17.0        349\n",
      "12.0        196\n",
      "11.0         95\n",
      "10.0         57\n",
      "9.0           9\n",
      "18.0          5\n",
      "8.0           4\n",
      "7.0           1\n",
      "Name: Asymmetrique Activity Score, dtype: int64\n"
     ]
    },
    {
     "data": {
      "image/png": "[encoded data removed]",
      "text/plain": [
       "<Figure size 432x288 with 1 Axes>"
      ]
     },
     "metadata": {},
     "output_type": "display_data"
    },
    {
     "name": "stdout",
     "output_type": "stream",
     "text": [
      "Are there any NaN values:  True\n",
      "Number of unique values:  11\n",
      "Unique values count:\n",
      " Missing    4218\n",
      "15.0       1759\n",
      "18.0       1071\n",
      "16.0        599\n",
      "17.0        579\n",
      "20.0        308\n",
      "19.0        245\n",
      "14.0        226\n",
      "13.0        204\n",
      "12.0         22\n",
      "11.0          9\n",
      "Name: Asymmetrique Profile Score, dtype: int64\n"
     ]
    },
    {
     "data": {
      "image/png": "[encoded data removed]",
      "text/plain": [
       "<Figure size 432x288 with 1 Axes>"
      ]
     },
     "metadata": {},
     "output_type": "display_data"
    }
   ],
   "source": [
    "\n",
    "if IS_TEST_MODE:\n",
    "    plot_multiple_feature(raw_df,['Asymmetrique Activity Score',\n",
    "       'Asymmetrique Profile Score'], False)"
   ]
  },
  {
   "cell_type": "markdown",
   "metadata": {
    "pycharm": {
     "name": "#%% md\n"
    }
   },
   "source": [
    "Ploting Missing Data: <a id=\"general0\"></a>"
   ]
  },
  {
   "cell_type": "code",
   "execution_count": 217,
   "metadata": {
    "pycharm": {
     "name": "#%%\n"
    }
   },
   "outputs": [
    {
     "name": "stdout",
     "output_type": "stream",
     "text": [
      "\"Lead Source\" missing data:\n",
      "Number of unique values:  22\n",
      "Number of Missing values:  36\n",
      "Unique values count:\n",
      " Google               2868\n",
      "Direct Traffic       2543\n",
      "Olark Chat           1755\n",
      "Organic Search       1154\n",
      "Reference             534\n",
      "Welingak Website      142\n",
      "Referral Sites        125\n",
      "Facebook               55\n",
      "Missing                36\n",
      "bing                    6\n",
      "google                  5\n",
      "Click2call              4\n",
      "Live Chat               2\n",
      "Press_Release           2\n",
      "Social Media            2\n",
      "Pay per Click Ads       1\n",
      "testone                 1\n",
      "youtubechannel          1\n",
      "welearnblog_Home        1\n",
      "blog                    1\n",
      "WeLearn                 1\n",
      "NC_EDM                  1\n",
      "Name: Lead Source, dtype: int64\n",
      "-----------------------------------------------\n",
      "\"TotalVisits\" missing data:\n",
      "Number of unique values:  42\n",
      "Number of Missing values:  137\n",
      "Unique values count:\n",
      " 0.0        2189\n",
      "2.0        1680\n",
      "3.0        1306\n",
      "4.0        1120\n",
      "5.0         783\n",
      "6.0         466\n",
      "1.0         395\n",
      "7.0         309\n",
      "8.0         224\n",
      "9.0         164\n",
      "Missing     137\n",
      "10.0        114\n",
      "11.0         86\n",
      "13.0         48\n",
      "12.0         45\n",
      "14.0         36\n",
      "16.0         21\n",
      "15.0         18\n",
      "17.0         16\n",
      "18.0         15\n",
      "20.0         12\n",
      "19.0          9\n",
      "21.0          6\n",
      "23.0          6\n",
      "24.0          5\n",
      "25.0          5\n",
      "27.0          5\n",
      "22.0          3\n",
      "26.0          2\n",
      "28.0          2\n",
      "29.0          2\n",
      "54.0          1\n",
      "141.0         1\n",
      "115.0         1\n",
      "74.0          1\n",
      "55.0          1\n",
      "30.0          1\n",
      "43.0          1\n",
      "42.0          1\n",
      "41.0          1\n",
      "32.0          1\n",
      "251.0         1\n",
      "Name: TotalVisits, dtype: int64\n",
      "-----------------------------------------------\n",
      "\"Page Views Per Visit\" missing data:\n",
      "Number of unique values:  115\n",
      "Number of Missing values:  137\n",
      "Unique values count:\n",
      " 0.00    2189\n",
      "2.00    1795\n",
      "3.00    1196\n",
      "4.00     896\n",
      "1.00     651\n",
      "        ... \n",
      "1.45       1\n",
      "6.33       1\n",
      "2.56       1\n",
      "8.33       1\n",
      "1.64       1\n",
      "Name: Page Views Per Visit, Length: 115, dtype: int64\n",
      "-----------------------------------------------\n",
      "\"Last Activity\" missing data:\n",
      "Number of unique values:  18\n",
      "Number of Missing values:  103\n",
      "Unique values count:\n",
      " Email Opened                    3437\n",
      "SMS Sent                        2745\n",
      "Olark Chat Conversation          973\n",
      "Page Visited on Website          640\n",
      "Converted to Lead                428\n",
      "Email Bounced                    326\n",
      "Email Link Clicked               267\n",
      "Form Submitted on Website        116\n",
      "Missing                          103\n",
      "Unreachable                       93\n",
      "Unsubscribed                      61\n",
      "Had a Phone Conversation          30\n",
      "Approached upfront                 9\n",
      "View in browser link Clicked       6\n",
      "Email Marked Spam                  2\n",
      "Email Received                     2\n",
      "Visited Booth in Tradeshow         1\n",
      "Resubscribed to emails             1\n",
      "Name: Last Activity, dtype: int64\n",
      "-----------------------------------------------\n",
      "\"How did you hear about X Education\" missing data:\n",
      "Number of unique values:  10\n",
      "Number of Missing values:  7250\n",
      "Unique values count:\n",
      " Missing                  7250\n",
      "Online Search             808\n",
      "Word Of Mouth             348\n",
      "Student of SomeSchool     310\n",
      "Other                     186\n",
      "Multiple Sources          152\n",
      "Advertisements             70\n",
      "Social Media               67\n",
      "Email                      26\n",
      "SMS                        23\n",
      "Name: How did you hear about X Education, dtype: int64\n",
      "-----------------------------------------------\n",
      "\"What matters most to you in choosing a course\" missing data:\n",
      "Number of unique values:  4\n",
      "Number of Missing values:  2709\n",
      "Unique values count:\n",
      " Better Career Prospects      6528\n",
      "Missing                      2709\n",
      "Flexibility & Convenience       2\n",
      "Other                           1\n",
      "Name: What matters most to you in choosing a course, dtype: int64\n",
      "-----------------------------------------------\n",
      "\"Lead Profile\" missing data:\n",
      "Number of unique values:  6\n",
      "Number of Missing values:  6855\n",
      "Unique values count:\n",
      " Missing                        6855\n",
      "Potential Lead                 1613\n",
      "Other Leads                     487\n",
      "Student of SomeSchool           241\n",
      "Lateral Student                  24\n",
      "Dual Specialization Student      20\n",
      "Name: Lead Profile, dtype: int64\n",
      "-----------------------------------------------\n",
      "\"City\" missing data:\n",
      "Number of unique values:  7\n",
      "Number of Missing values:  3669\n",
      "Unique values count:\n",
      " Missing                        3669\n",
      "Mumbai                         3222\n",
      "Thane & Outskirts               752\n",
      "Other Cities                    686\n",
      "Other Cities of Maharashtra     457\n",
      "Other Metro Cities              380\n",
      "Tier II Cities                   74\n",
      "Name: City, dtype: int64\n",
      "-----------------------------------------------\n",
      "\"Asymmetrique Activity Index\" missing data:\n",
      "Number of unique values:  4\n",
      "Number of Missing values:  4218\n",
      "Unique values count:\n",
      " Missing    4218\n",
      "2          3839\n",
      "3           821\n",
      "1           362\n",
      "Name: Asymmetrique Activity Index, dtype: int64\n",
      "-----------------------------------------------\n",
      "\"Asymmetrique Profile Index\" missing data:\n",
      "Number of unique values:  4\n",
      "Number of Missing values:  4218\n",
      "Unique values count:\n",
      " Missing    4218\n",
      "2          2788\n",
      "3          2203\n",
      "1            31\n",
      "Name: Asymmetrique Profile Index, dtype: int64\n",
      "-----------------------------------------------\n",
      "\"Asymmetrique Activity Score\" missing data:\n",
      "Number of unique values:  13\n",
      "Number of Missing values:  4218\n",
      "Unique values count:\n",
      " Missing    4218\n",
      "14.0       1771\n",
      "15.0       1293\n",
      "13.0        775\n",
      "16.0        467\n",
      "17.0        349\n",
      "12.0        196\n",
      "11.0         95\n",
      "10.0         57\n",
      "9.0           9\n",
      "18.0          5\n",
      "8.0           4\n",
      "7.0           1\n",
      "Name: Asymmetrique Activity Score, dtype: int64\n",
      "-----------------------------------------------\n",
      "\"Asymmetrique Profile Score\" missing data:\n",
      "Number of unique values:  11\n",
      "Number of Missing values:  4218\n",
      "Unique values count:\n",
      " Missing    4218\n",
      "15.0       1759\n",
      "18.0       1071\n",
      "16.0        599\n",
      "17.0        579\n",
      "20.0        308\n",
      "19.0        245\n",
      "14.0        226\n",
      "13.0        204\n",
      "12.0         22\n",
      "11.0          9\n",
      "Name: Asymmetrique Profile Score, dtype: int64\n",
      "-----------------------------------------------\n"
     ]
    }
   ],
   "source": [
    "if IS_TEST_MODE:\n",
    "    feature_with_missing_data(raw_df)"
   ]
  },
  {
   "cell_type": "markdown",
   "metadata": {
    "pycharm": {
     "name": "#%% md\n"
    }
   },
   "source": [
    "Splitting Countries: <a id=\"mf1\"></a>"
   ]
  },
  {
   "cell_type": "code",
   "execution_count": 252,
   "metadata": {
    "pycharm": {
     "name": "#%%\n"
    }
   },
   "outputs": [],
   "source": [
    "def split_countries(df):\n",
    "    '''\n",
    "    Will splite the Country into two - india and other (the rest of the countries will all be other).\n",
    "    '''\n",
    "    try:\n",
    "        df.loc[df[\"Country\"] != \"India\", \"Country\"] = \"Other\"\n",
    "    except Exception as e:\n",
    "        print(e)\n",
    "    return df"
   ]
  },
  {
   "cell_type": "markdown",
   "metadata": {
    "pycharm": {
     "name": "#%% md\n"
    }
   },
   "source": [
    "Lead Source count and replace values: <a id=\"mf2\"></a>"
   ]
  },
  {
   "cell_type": "code",
   "execution_count": 253,
   "metadata": {
    "pycharm": {
     "name": "#%%\n"
    }
   },
   "outputs": [],
   "source": [
    "def fix_typo_in_lead_source(df):\n",
    "    '''\n",
    "    Fixing a typo google to match Google.\n",
    "    '''\n",
    "    try:\n",
    "        df.loc[df[\"Lead Source\"] == \"google\", \"Lead Source\"] = \"Google\"\n",
    "    except Exception as e:\n",
    "        print(e)\n",
    "    return df\n",
    "\n",
    "# Using the first time only to get the featuers that are above the threshold!\n",
    "def replace_values_based_on_threshold_in_lead_source(df, threshold = lead_source_threshold, def_value = def_lead_source_value):\n",
    "    '''\n",
    "    Will make all the options in lead source the with less then the threshold sample equal to \"def_value\".\n",
    "    This function will run only in testing to get the list of options in lead sorce.\n",
    "    '''\n",
    "    for source in df[\"Lead Source\"].unique():\n",
    "        if (df[\"Lead Source\"] == source).sum() < threshold:\n",
    "            df.loc[df[\"Lead Source\"] == source, \"Lead Source\"] = def_value\n",
    "    return df\n",
    "\n",
    "# Use on new samples\n",
    "def check_lead_source(df, ls_opt = lead_source_option, def_value = def_lead_source_value):\n",
    "    '''\n",
    "    If the option is not in the list of options of lead sorce featuer, they will be \"def_value\".\n",
    "    This is set to keep the options in lead sorce always the same.\n",
    "    '''\n",
    "    for source in df[\"Lead Source\"].unique():\n",
    "        if source not in ls_opt: \n",
    "            df.loc[df[\"Lead Source\"] == source, \"Lead Source\"] = def_value\n",
    "    return df"
   ]
  },
  {
   "cell_type": "markdown",
   "metadata": {
    "pycharm": {
     "name": "#%% md\n"
    }
   },
   "source": [
    "Replacing \"nan_replacment\" in features: <a id=\"mf3\"></a>"
   ]
  },
  {
   "cell_type": "code",
   "execution_count": 254,
   "metadata": {
    "pycharm": {
     "name": "#%%\n"
    }
   },
   "outputs": [],
   "source": [
    "def map_nan_replacment_in_features(df,features = features_with_nan_map_to_other,maping = mappping_values):\n",
    "    '''\n",
    "    Replacing missing values in featuers to the featuer's defualt values or other.\n",
    "    '''\n",
    "    for feature in features:\n",
    "        try:\n",
    "            df.loc[df[feature] == nan_replacment, feature] = maping.get(feature,\"Other\")\n",
    "        except Exception as e:\n",
    "            print(e)\n",
    "    return df"
   ]
  },
  {
   "cell_type": "markdown",
   "metadata": {
    "pycharm": {
     "name": "#%% md\n"
    }
   },
   "source": [
    "Haddling How did you hear about us featuers: <a id=\"mf4\"></a>"
   ]
  },
  {
   "cell_type": "code",
   "execution_count": 221,
   "metadata": {
    "pycharm": {
     "name": "#%%\n"
    }
   },
   "outputs": [],
   "source": [
    "# Create the new features\n",
    "def new_featuers_with_zeros(df, features = new_featuers_lst):\n",
    "    for feature in features:\n",
    "        if feature not in df.columns:\n",
    "            df[feature] = 0\n",
    "    return df\n",
    "\n",
    "# Merge & Drop Magazine + Newspaper Article + Newspaper\n",
    "def merge_and_drop_columns(df):\n",
    "    try:\n",
    "        df.loc[df[\"Magazine\"] == 1,  \"Newspaper/Magazine\"] = 1\n",
    "        df.loc[df[\"Newspaper Article\"] == 1,  \"Newspaper/Magazine\"] = 1\n",
    "        df.loc[df[\"Newspaper\"] == 1,  \"Newspaper/Magazine\"] = 1\n",
    "        df = df.drop([\"Magazine\",\"Newspaper Article\",\"Newspaper\"],axis = 1)\n",
    "    except Exception as e:\n",
    "        print(e)\n",
    "    return df\n",
    "\n",
    "# Rename Digital Advertisement as Advertisement\n",
    "def change_digital_advertisement_name(df):\n",
    "    try:\n",
    "        df.rename(columns = {\"Digital Advertisement\":\"Advertisement\"}, inplace = True)\n",
    "    except Exception as e:\n",
    "        print(e)\n",
    "    return df\n",
    "\n",
    "# From \"How did you hear about X Education\" to new features\n",
    "def split_feature_to_other_features_and_drop(df, from_to_dict = mapping_featuers_to_new_featuers):\n",
    "    try:\n",
    "        for option,new_feature in from_to_dict.items():\n",
    "            df.loc[df[\"How did you hear about X Education\"] == option, new_feature] = 1\n",
    "        df = df.drop(\"How did you hear about X Education\", axis = 1)\n",
    "    except Exception as e:\n",
    "        print(e)\n",
    "    return df"
   ]
  },
  {
   "cell_type": "markdown",
   "metadata": {
    "pycharm": {
     "name": "#%% md\n"
    }
   },
   "source": [
    "Drop Features: <a id=\"mf5\"></a>"
   ]
  },
  {
   "cell_type": "code",
   "execution_count": 222,
   "metadata": {
    "pycharm": {
     "name": "#%%\n"
    }
   },
   "outputs": [],
   "source": [
    "def drop_featuers(df, features = featuers_to_drop):\n",
    "    for feature in features:\n",
    "        try:\n",
    "            df = df.drop(feature, axis = 1)\n",
    "        except Exception as e:\n",
    "            print(e)\n",
    "    return df"
   ]
  },
  {
   "cell_type": "markdown",
   "metadata": {
    "pycharm": {
     "name": "#%% md\n"
    }
   },
   "source": [
    "Step 2 Data Cleaning Pipline:<a id=\"mf6\"></a>"
   ]
  },
  {
   "cell_type": "code",
   "execution_count": 223,
   "metadata": {
    "pycharm": {
     "name": "#%%\n"
    }
   },
   "outputs": [],
   "source": [
    "def step_2_pipline(ddf):\n",
    "    df = split_countries(ddf)\n",
    "    test_split_countries(df)\n",
    "    \n",
    "    df = fix_typo_in_lead_source(df)\n",
    "    test_fix_typo_in_lead_source(df)\n",
    "    \n",
    "    df = check_lead_source(df)\n",
    "    test_check_lead_source(df)\n",
    "    \n",
    "    df = map_nan_replacment_in_features(df)\n",
    "    test_map_nan_replacment_in_features(df)\n",
    "    \n",
    "    df = new_featuers_with_zeros(df)\n",
    "    test_new_featuers_with_zeros(df)\n",
    "    \n",
    "    df = merge_and_drop_columns(df)\n",
    "    test_merge_and_drop_columns(df)\n",
    "    \n",
    "    df = change_digital_advertisement_name(df)\n",
    "    test_hange_digital_advertisement_name(df)\n",
    "    \n",
    "    df = split_feature_to_other_features_and_drop(df)\n",
    "    test_split_feature_to_other_features_and_drop(df)\n",
    "    \n",
    "    df = drop_featuers(df)\n",
    "    test_drop_featuers(df)\n",
    "    return df\n",
    "\n",
    "def get_step_2_data(file_name = data_step_2):\n",
    "    try: \n",
    "        df = pd.read_csv(data_file_prefix+file_name)\n",
    "    except:\n",
    "        df = step_2_pipline(get_step_1_data())\n",
    "        df.to_csv(data_file_prefix+file_name,index=False)\n",
    "    return df\n",
    "        "
   ]
  },
  {
   "cell_type": "code",
   "execution_count": 224,
   "metadata": {
    "pycharm": {
     "name": "#%%\n"
    }
   },
   "outputs": [],
   "source": [
    "def test_split_countries(df):\n",
    "    county_lst = df[\"Country\"].unique()\n",
    "    if len(county_lst) == 1:\n",
    "        assert \"India\" in county_lst or \"Other\" in county_lst\n",
    "    else:\n",
    "        assert \"India\" in county_lst and \"Other\" in county_lst\n",
    "    assert df.shape[1] == 36\n",
    "    \n",
    "def test_fix_typo_in_lead_source(df):\n",
    "    ls_lst = df[\"Lead Source\"].unique()\n",
    "    assert \"google\" not in ls_lst\n",
    "    assert df.shape[1] == 36\n",
    "    \n",
    "def test_check_lead_source(df):\n",
    "    for val in df[\"Lead Source\"].unique():\n",
    "        assert val in lead_source_option\n",
    "    assert df.shape[1] == 36\n",
    "    \n",
    "def test_map_nan_replacment_in_features(df):\n",
    "    assert df.shape[1] == 36\n",
    "    for f in df.columns:\n",
    "        assert nan_replacment not in df[f]\n",
    "\n",
    "def test_new_featuers_with_zeros(df):\n",
    "    col = df.columns\n",
    "    for f in new_featuers_lst:\n",
    "        assert f in col\n",
    "        assert df[f].sum() == 0\n",
    "    assert df.shape[1] == 41\n",
    "\n",
    "def test_merge_and_drop_columns(df):\n",
    "    assert df.shape[1] == 38\n",
    "    \n",
    "def test_hange_digital_advertisement_name(df):\n",
    "    assert \"Digital Advertisement\" not in df.columns\n",
    "    assert \"Advertisement\" in df.columns\n",
    "    assert df.shape[1] == 38\n",
    "\n",
    "def test_split_feature_to_other_features_and_drop(df):\n",
    "    assert df.shape[1] == 37\n",
    "    assert \"How did you hear about X Education\" not in df.columns\n",
    "    \n",
    "def test_drop_featuers(df):\n",
    "    assert df.shape[1] == 29"
   ]
  },
  {
   "cell_type": "markdown",
   "metadata": {
    "pycharm": {
     "name": "#%% md\n"
    }
   },
   "source": [
    "### Models for feature engineering: <a id=\"mf6\"></a>"
   ]
  },
  {
   "cell_type": "markdown",
   "metadata": {
    "pycharm": {
     "name": "#%% md\n"
    }
   },
   "source": [
    "OneHot Encoding: <a id=\"mf7\"></a>"
   ]
  },
  {
   "cell_type": "code",
   "execution_count": 225,
   "metadata": {
    "pycharm": {
     "name": "#%%\n"
    }
   },
   "outputs": [],
   "source": [
    "global onehot_models\n",
    "onehot_models = {}\n",
    "\n",
    "def ohe_path(featuer):\n",
    "    return models_path_prefix+ohe_path_prefix+featuer.replace(\" \", \"\").lower()+ohe_path_postfix\n",
    "\n",
    "def init_onehot_models():\n",
    "    df = get_step_2_data()\n",
    "    for feature in one_hot_lst:\n",
    "        path = ohe_path(feature)\n",
    "        try:\n",
    "            with open(path, 'rb') as f:\n",
    "                onehot_models[feature] = pickle.load(f)\n",
    "        except Exception as e:\n",
    "            ohe = OneHotEncoder()\n",
    "            ohe = ohe.fit(df[feature].to_numpy().reshape(-1, 1))\n",
    "            onehot_models[feature] = ohe\n",
    "            with open(path, 'wb') as f:\n",
    "                pickle.dump(ohe, f)\n",
    "\n",
    "def one_hot_featuers(df, features_to_ohe_lst = one_hot_lst):\n",
    "    new_df = df.copy()\n",
    "    for feature in features_to_ohe_lst:\n",
    "        if not onehot_models.get(feature,0): init_onehot_models()\n",
    "        ohe = onehot_models.get(feature,0)\n",
    "        try:\n",
    "            dfe = pd.DataFrame(ohe.transform(df[feature].to_numpy().reshape(-1, 1)).toarray())\n",
    "            col_names = { i:f\"{feature} - {col}\" for i,col in enumerate(*ohe.categories_)}\n",
    "            new_df = new_df.drop(feature, axis = 1)\n",
    "            for key,val in col_names.items():\n",
    "                new_df[val] = dfe[key]\n",
    "        except Exception as e:\n",
    "            print(e)\n",
    "    return new_df\n",
    "\n"
   ]
  },
  {
   "cell_type": "markdown",
   "metadata": {
    "pycharm": {
     "name": "#%% md\n"
    }
   },
   "source": [
    "KNNImputer for haddling Asymmetrique Features:<a id=\"mf8\"></a>"
   ]
  },
  {
   "cell_type": "code",
   "execution_count": 226,
   "metadata": {
    "pycharm": {
     "name": "#%%\n"
    }
   },
   "outputs": [],
   "source": [
    "global knnimp_model\n",
    "knnimp_model = {}\n",
    "\n",
    "def init_knnimp_model():\n",
    "    try:\n",
    "        with open(models_path_prefix+imputer_model_path, 'rb') as f:\n",
    "                knnimp_model[\"knn_imp\"] = pickle.load(f)\n",
    "    except:\n",
    "        x,img_df = df_for_knnimp(one_hot_featuers(get_step_2_data()))\n",
    "        knnimp_model[\"knn_imp\"] = KNNImputer(missing_values=np.nan,n_neighbors=2)\n",
    "        knnimp_model[\"knn_imp\"].fit(x)\n",
    "        with open(models_path_prefix+imputer_model_path, 'wb') as f:\n",
    "            pickle.dump(knnimp_model[\"knn_imp\"], f)\n",
    "\n",
    "def get_or_init_knnimp(x):\n",
    "    if knnimp_model.get(\"knn_imp\",0): return knnimp_model.get(\"knn_imp\")\n",
    "    init_knnimp_model()\n",
    "    return knnimp_model.get(\"knn_imp\")\n",
    "\n",
    "def df_for_knnimp(df):\n",
    "    imp_df = df.copy()\n",
    "    imp_df.loc[imp_df[\"Asymmetrique Activity Index\"] == nan_replacment, \"Asymmetrique Activity Index\"] = np.nan\n",
    "    imp_df.loc[imp_df[\"Asymmetrique Profile Index\"] == nan_replacment, \"Asymmetrique Profile Index\"] = np.nan\n",
    "    imp_df = imp_df.drop(\"Asymmetrique Activity Score\", axis = 1).drop(\"Asymmetrique Profile Score\", axis = 1).drop(\"Converted\", axis = 1)\n",
    "    x = imp_df[(imp_df[\"Asymmetrique Activity Index\"] != np.nan) | (imp_df[\"Asymmetrique Profile Index\"] != np.nan)]\n",
    "    return x,imp_df\n",
    "\n",
    "def data_imputer_on_asymmetrique_features(df):\n",
    "    x,imp_df = df_for_knnimp(df)\n",
    "    col_imp_df = imp_df.columns\n",
    "    model = get_or_init_knnimp(x)\n",
    "    imp_df = pd.DataFrame(model.transform(imp_df)).round(0)\n",
    "    col_names = { i:col for i,col in enumerate(col_imp_df)}\n",
    "    imp_df.rename(columns=col_names, inplace= True)\n",
    "    imp_df[\"Asymmetrique Activity Score\"]=df[\"Asymmetrique Activity Score\"]\n",
    "    imp_df[\"Asymmetrique Profile Score\"]=df[\"Asymmetrique Profile Score\"]\n",
    "    for ac_index in imp_df[\"Asymmetrique Activity Index\"].unique():\n",
    "        imp_df.loc[(imp_df[\"Asymmetrique Activity Index\"] == ac_index) & (imp_df[\"Asymmetrique Activity Score\"] == nan_replacment) , \"Asymmetrique Activity Score\"] = asymmetrique_activity_median.get(ac_index,0)\n",
    "    for ac_index in imp_df[\"Asymmetrique Profile Index\"].unique():\n",
    "        imp_df.loc[(imp_df[\"Asymmetrique Profile Index\"] == ac_index) & (imp_df[\"Asymmetrique Profile Score\"] == nan_replacment), \"Asymmetrique Profile Score\"] = asymmetrique_profile_median.get(ac_index,0)\n",
    "    imp_df[\"Converted\"]=df[\"Converted\"]\n",
    "    return imp_df"
   ]
  },
  {
   "cell_type": "markdown",
   "metadata": {},
   "source": [
    "Step 3 pipline encoding featuers with models: <a id=\"mf9\"></a>"
   ]
  },
  {
   "cell_type": "code",
   "execution_count": 227,
   "metadata": {
    "pycharm": {
     "name": "#%%\n"
    }
   },
   "outputs": [],
   "source": [
    "def step_3_pipline(ddf):\n",
    "    df = one_hot_featuers(ddf)\n",
    "    test_hot_featuers(df)\n",
    "    df = data_imputer_on_asymmetrique_features(df)\n",
    "    return df\n",
    "\n",
    "def get_step_3_data(file_name = data_step_3):\n",
    "    try: \n",
    "        df = pd.read_csv(data_file_prefix+file_name)\n",
    "    except:\n",
    "        df = step_3_pipline(get_step_2_data())\n",
    "        df.to_csv(data_file_prefix+file_name,index=False)\n",
    "    return df   "
   ]
  },
  {
   "cell_type": "code",
   "execution_count": 228,
   "metadata": {
    "pycharm": {
     "name": "#%%\n"
    }
   },
   "outputs": [],
   "source": [
    "def test_hot_featuers(df):\n",
    "    assert df.shape[1] == 86\n",
    "    test_col = one_hot_featuers(get_step_2_data()).columns\n",
    "    for col in test_col:\n",
    "        assert col in df.columns\n"
   ]
  },
  {
   "cell_type": "markdown",
   "metadata": {
    "pycharm": {
     "name": "#%% md\n"
    }
   },
   "source": [
    "### Models for predictions: "
   ]
  },
  {
   "cell_type": "code",
   "execution_count": 229,
   "metadata": {
    "pycharm": {
     "name": "#%%\n"
    }
   },
   "outputs": [],
   "source": [
    "global pred_models\n",
    "pred_models = {}"
   ]
  },
  {
   "cell_type": "markdown",
   "metadata": {
    "pycharm": {
     "name": "#%% md\n"
    }
   },
   "source": [
    "Plotting Scores: <a id=\"mf10\"></a>"
   ]
  },
  {
   "cell_type": "code",
   "execution_count": 230,
   "metadata": {
    "pycharm": {
     "name": "#%%\n"
    }
   },
   "outputs": [],
   "source": [
    "def print_grid_score(grid,x_test,y_test):\n",
    "    print(\"Best parameters set found on development set:\")\n",
    "    print()\n",
    "    print(\" %0.3f\" %grid.best_score_ , grid.best_params_, \"\\n\")\n",
    "    y_true, y_pred = y_test, grid.predict(x_test)\n",
    "    print(classification_report(y_true, y_pred))"
   ]
  },
  {
   "cell_type": "markdown",
   "metadata": {
    "pycharm": {
     "name": "#%% md\n"
    }
   },
   "source": [
    "Logistic regression : <a id=\"mf11\"></a>"
   ]
  },
  {
   "cell_type": "code",
   "execution_count": 231,
   "metadata": {
    "pycharm": {
     "name": "#%%\n"
    }
   },
   "outputs": [],
   "source": [
    "def init_lr_model():\n",
    "    try:\n",
    "        pred_models[\"lr\"] = joblib.load(models_path_prefix+lr_model_path)\n",
    "    except:\n",
    "        df = get_step_3_data()\n",
    "        x,y = df.drop(\"Converted\", axis = 1),df[\"Converted\"]\n",
    "        x_train, x_test, y_train, y_test = train_test_split(x,y, test_size=0.33, random_state=0)\n",
    "        lr_grid = train_lr_model(x_train,y_train)\n",
    "        pred_models[\"lr\"] = lr_grid\n",
    "        joblib.dump(pred_models[\"lr\"], models_path_prefix+lr_model_path)\n",
    "        if IS_TEST_MODE: print_grid_score(pred_models[\"lr\"],x_test,y_test)\n",
    "\n",
    "def train_lr_model(x_train,y_train):\n",
    "    log_parm={\"C\":np.logspace(-3,3,7), \"penalty\":[\"l1\",\"l2\"]}# l1 lasso l2 ridge\n",
    "    logreg=LogisticRegression(solver='liblinear')\n",
    "    grid = GridSearchCV(logreg,log_parm,cv=5, scoring='roc_auc',  verbose=2, n_jobs = -1)\n",
    "    grid.fit(x_train,y_train)\n",
    "    return grid\n",
    "\n",
    "def test_lr_model(x_test,y_test):\n",
    "    if not pred_models.get(\"lr\",0): init_lr_model()\n",
    "    print_grid_score(pred_models[\"lr\"],x_test,y_test)\n",
    "    return pred_models[\"lr\"].predict_proba(x_test)\n",
    "\n",
    "def pred_prob_lr_model(df):\n",
    "    if not pred_models.get(\"lr\",0): init_lr_model()\n",
    "    x,y = df.drop(\"Converted\", axis = 1),df[\"Converted\"]\n",
    "    return pred_models[\"lr\"].predict_proba(x)\n",
    "\n",
    "def pred_lr_model(df):\n",
    "    if not pred_models.get(\"lr\",0): init_lr_model()\n",
    "    x,y = df.drop(\"Converted\", axis = 1),df[\"Converted\"]\n",
    "    return pred_models[\"lr\"].predict(x)\n",
    "\n",
    "def will_convert_prod_lr_model(df):\n",
    "    prob = pred_prob_lr_model(df)\n",
    "    return [int(lst[1]*100) for i,lst in enumerate(prob)]\n",
    "    "
   ]
  },
  {
   "cell_type": "code",
   "execution_count": 232,
   "metadata": {
    "pycharm": {
     "name": "#%%\n"
    }
   },
   "outputs": [
    {
     "name": "stdout",
     "output_type": "stream",
     "text": [
      "Fitting 5 folds for each of 14 candidates, totalling 70 fits\n",
      "Best parameters set found on development set:\n",
      "\n",
      " 0.920 {'C': 1.0, 'penalty': 'l1'} \n",
      "\n",
      "              precision    recall  f1-score   support\n",
      "\n",
      "           0       0.86      0.90      0.88      1862\n",
      "           1       0.83      0.76      0.80      1188\n",
      "\n",
      "    accuracy                           0.85      3050\n",
      "   macro avg       0.84      0.83      0.84      3050\n",
      "weighted avg       0.85      0.85      0.85      3050\n",
      "\n",
      "[12]\n"
     ]
    }
   ],
   "source": [
    "if IS_TEST_MODE:\n",
    "    n = get_step_3_data().head(1)\n",
    "    print(will_convert_prod_lr_model(n))"
   ]
  },
  {
   "cell_type": "code",
   "execution_count": 233,
   "metadata": {
    "pycharm": {
     "name": "#%%\n"
    }
   },
   "outputs": [
    {
     "name": "stdout",
     "output_type": "stream",
     "text": [
      "99    488\n",
      "4     478\n",
      "2     422\n",
      "1     380\n",
      "3     349\n",
      "     ... \n",
      "73     31\n",
      "55     30\n",
      "63     28\n",
      "51     27\n",
      "65     22\n",
      "Name: Pred, Length: 100, dtype: int64\n"
     ]
    }
   ],
   "source": [
    "if IS_TEST_MODE:\n",
    "    dfb = step_3_pipline(step_2_pipline(step_1_pipline(get_data())))\n",
    "    x,y = dfb.drop(\"Converted\", axis = 1),dfb[\"Converted\"]\n",
    "    print(pd.DataFrame({\"Pred\":will_convert_prod_lr_model(dfb)})[\"Pred\"].value_counts())"
   ]
  },
  {
   "cell_type": "code",
   "execution_count": 234,
   "metadata": {
    "pycharm": {
     "name": "#%%\n"
    }
   },
   "outputs": [
    {
     "name": "stdout",
     "output_type": "stream",
     "text": [
      "Best parameters set found on development set:\n",
      "\n",
      " 0.920 {'C': 1.0, 'penalty': 'l1'} \n",
      "\n",
      "              precision    recall  f1-score   support\n",
      "\n",
      "           0       0.86      0.90      0.88      1862\n",
      "           1       0.83      0.76      0.80      1188\n",
      "\n",
      "    accuracy                           0.85      3050\n",
      "   macro avg       0.84      0.83      0.84      3050\n",
      "weighted avg       0.85      0.85      0.85      3050\n",
      "\n"
     ]
    }
   ],
   "source": [
    "if IS_TEST_MODE:\n",
    "    init_lr_model()\n",
    "    dfc = get_step_3_data()\n",
    "    x,y = dfc.drop(\"Converted\", axis = 1),dfc[\"Converted\"]\n",
    "    x_train, x_test, y_train, y_test = train_test_split(x,y, test_size=0.33, random_state=0)\n",
    "    y_pred = test_lr_model(x_test,y_test)"
   ]
  },
  {
   "cell_type": "code",
   "execution_count": 235,
   "metadata": {
    "pycharm": {
     "name": "#%%\n"
    }
   },
   "outputs": [
    {
     "name": "stdout",
     "output_type": "stream",
     "text": [
      "(1, 36)\n",
      "(9240, 36)\n",
      "(1, 29)\n",
      "(9240, 29)\n"
     ]
    }
   ],
   "source": [
    "if IS_TEST_MODE:\n",
    "    n = step_1_pipline(get_data().head(1))\n",
    "    print(n.shape)\n",
    "    x = get_step_1_data()\n",
    "    print(x.shape)\n",
    "    n = step_2_pipline(n)\n",
    "    print(n.shape)\n",
    "    x = get_step_2_data()\n",
    "    print(x.shape)"
   ]
  },
  {
   "cell_type": "code",
   "execution_count": 236,
   "metadata": {
    "pycharm": {
     "name": "#%%\n"
    }
   },
   "outputs": [
    {
     "name": "stdout",
     "output_type": "stream",
     "text": [
      "(1, 86)\n",
      "(9240, 86)\n"
     ]
    }
   ],
   "source": [
    "if IS_TEST_MODE:\n",
    "    n = one_hot_featuers(n)\n",
    "    print(n.shape)\n",
    "    x = get_step_3_data()\n",
    "    print(x.shape)"
   ]
  },
  {
   "cell_type": "code",
   "execution_count": 237,
   "metadata": {
    "pycharm": {
     "name": "#%%\n"
    }
   },
   "outputs": [],
   "source": [
    "if IS_TEST_MODE:\n",
    "    df = step_3_pipline(step_2_pipline(step_1_pipline(get_data())))\n",
    "    x = get_step_3_data()\n",
    "    for col in df.columns:\n",
    "        for f in df[col].unique():\n",
    "            assert (x[col] == f).count() == (df[col] == f).count()\n",
    "    "
   ]
  },
  {
   "cell_type": "code",
   "execution_count": 238,
   "metadata": {
    "pycharm": {
     "name": "#%%\n"
    }
   },
   "outputs": [
    {
     "name": "stdout",
     "output_type": "stream",
     "text": [
      "Index(['Do Not Email', 'Do Not Call', 'TotalVisits',\n",
      "       'Total Time Spent on Website', 'Page Views Per Visit', 'Search',\n",
      "       'X Education Forums', 'Advertisement', 'Through Recommendations',\n",
      "       'Lead Quality', 'Asymmetrique Activity Index',\n",
      "       'Asymmetrique Profile Index', 'A free copy of Mastering The Interview',\n",
      "       'Other', 'Multiple Sources', 'Social Media', 'Direct Advertisement',\n",
      "       'Newspaper/Magazine', 'Lead Origin - API',\n",
      "       'Lead Origin - Landing Page Submission', 'Lead Origin - Lead Add Form',\n",
      "       'Lead Origin - Lead Import', 'Lead Origin - Quick Add Form',\n",
      "       'Lead Source - Direct Traffic', 'Lead Source - Facebook',\n",
      "       'Lead Source - Google', 'Lead Source - Olark Chat',\n",
      "       'Lead Source - Organic Search', 'Lead Source - Other',\n",
      "       'Lead Source - Reference', 'Lead Source - Referral Sites',\n",
      "       'Lead Source - Welingak Website', 'Country - India', 'Country - Other',\n",
      "       'Specialization - Banking, Investment And Insurance',\n",
      "       'Specialization - Business Administration',\n",
      "       'Specialization - E-Business', 'Specialization - E-COMMERCE',\n",
      "       'Specialization - Finance Management',\n",
      "       'Specialization - Healthcare Management',\n",
      "       'Specialization - Hospitality Management',\n",
      "       'Specialization - Human Resource Management',\n",
      "       'Specialization - IT Projects Management',\n",
      "       'Specialization - International Business',\n",
      "       'Specialization - Marketing Management',\n",
      "       'Specialization - Media and Advertising',\n",
      "       'Specialization - Operations Management', 'Specialization - Others',\n",
      "       'Specialization - Retail Management',\n",
      "       'Specialization - Rural and Agribusiness',\n",
      "       'Specialization - Services Excellence',\n",
      "       'Specialization - Supply Chain Management',\n",
      "       'Specialization - Travel and Tourism',\n",
      "       'What is your current occupation - Businessman',\n",
      "       'What is your current occupation - Housewife',\n",
      "       'What is your current occupation - Other',\n",
      "       'What is your current occupation - Student',\n",
      "       'What is your current occupation - Unemployed',\n",
      "       'What is your current occupation - Working Professional',\n",
      "       'What matters most to you in choosing a course - Better Career Prospects',\n",
      "       'What matters most to you in choosing a course - Flexibility & Convenience',\n",
      "       'What matters most to you in choosing a course - Other',\n",
      "       'Lead Profile - Dual Specialization Student',\n",
      "       'Lead Profile - Lateral Student', 'Lead Profile - Other Leads',\n",
      "       'Lead Profile - Potential Lead', 'Lead Profile - Student of SomeSchool',\n",
      "       'Last Notable Activity - Approached upfront',\n",
      "       'Last Notable Activity - Email Bounced',\n",
      "       'Last Notable Activity - Email Link Clicked',\n",
      "       'Last Notable Activity - Email Marked Spam',\n",
      "       'Last Notable Activity - Email Opened',\n",
      "       'Last Notable Activity - Email Received',\n",
      "       'Last Notable Activity - Form Submitted on Website',\n",
      "       'Last Notable Activity - Had a Phone Conversation',\n",
      "       'Last Notable Activity - Modified',\n",
      "       'Last Notable Activity - Olark Chat Conversation',\n",
      "       'Last Notable Activity - Page Visited on Website',\n",
      "       'Last Notable Activity - Resubscribed to emails',\n",
      "       'Last Notable Activity - SMS Sent',\n",
      "       'Last Notable Activity - Unreachable',\n",
      "       'Last Notable Activity - Unsubscribed',\n",
      "       'Last Notable Activity - View in browser link Clicked',\n",
      "       'Asymmetrique Activity Score', 'Asymmetrique Profile Score',\n",
      "       'Converted'],\n",
      "      dtype='object')\n"
     ]
    }
   ],
   "source": [
    "if IS_TEST_MODE:\n",
    "    n = data_imputer_on_asymmetrique_features(n)\n",
    "    print(n.columns)"
   ]
  },
  {
   "cell_type": "code",
   "execution_count": 239,
   "metadata": {
    "pycharm": {
     "name": "#%%\n"
    }
   },
   "outputs": [
    {
     "name": "stdout",
     "output_type": "stream",
     "text": [
      "2.0    1\n",
      "Name: Asymmetrique Activity Index, dtype: int64\n",
      "15.0    1\n",
      "Name: Asymmetrique Activity Score, dtype: int64\n",
      "2.0    1\n",
      "Name: Asymmetrique Profile Index, dtype: int64\n",
      "15.0    1\n",
      "Name: Asymmetrique Profile Score, dtype: int64\n"
     ]
    }
   ],
   "source": [
    "if IS_TEST_MODE:\n",
    "    x = step_3_pipline(step_2_pipline(step_1_pipline(get_data().head(1))))\n",
    "    print(x[\"Asymmetrique Activity Index\"].value_counts(dropna = False))\n",
    "    print(x[\"Asymmetrique Activity Score\"].value_counts(dropna = False))\n",
    "    print(x[\"Asymmetrique Profile Index\"].value_counts(dropna = False))\n",
    "    print(x[\"Asymmetrique Profile Score\"].value_counts(dropna = False))\n",
    "    #     for f in x.columns:\n",
    "#         print( x[f].value_counts(dropna = False))"
   ]
  },
  {
   "cell_type": "code",
   "execution_count": 240,
   "metadata": {
    "pycharm": {
     "name": "#%%\n"
    }
   },
   "outputs": [
    {
     "name": "stdout",
     "output_type": "stream",
     "text": [
      "India    8953\n",
      "Other     287\n",
      "Name: Country, dtype: int64\n"
     ]
    }
   ],
   "source": [
    "if IS_TEST_MODE:\n",
    "    country_df = split_countries(raw_df)\n",
    "    print(country_df[\"Country\"].value_counts(dropna = False))"
   ]
  },
  {
   "cell_type": "code",
   "execution_count": 241,
   "metadata": {
    "pycharm": {
     "name": "#%%\n"
    }
   },
   "outputs": [
    {
     "name": "stdout",
     "output_type": "stream",
     "text": [
      "Unique values count:\n",
      " Google              2873\n",
      "Direct Traffic      2543\n",
      "Olark Chat          1755\n",
      "Organic Search      1154\n",
      "Reference            534\n",
      "Welingak Website     142\n",
      "Referral Sites       125\n",
      "Other                 59\n",
      "Facebook              55\n",
      "Name: Lead Source, dtype: int64\n"
     ]
    }
   ],
   "source": [
    "if IS_TEST_MODE:\n",
    "    ls_df = replace_values_based_on_threshold_in_lead_source(fix_typo_in_lead_source(country_df))\n",
    "    print(\"Unique values count:\\n\",raw_df[\"Lead Source\"].value_counts(dropna = False))"
   ]
  },
  {
   "cell_type": "code",
   "execution_count": 242,
   "metadata": {
    "pycharm": {
     "name": "#%%\n"
    }
   },
   "outputs": [
    {
     "name": "stdout",
     "output_type": "stream",
     "text": [
      "{'Lead Profile': 'Other Leads', 'City': 'Other Cities', 'TotalVisits': 3, 'Page Views Per Visit': 2}\n",
      "Unique values count:\n",
      " Other                    7436\n",
      "Online Search             808\n",
      "Word Of Mouth             348\n",
      "Student of SomeSchool     310\n",
      "Multiple Sources          152\n",
      "Advertisements             70\n",
      "Social Media               67\n",
      "Email                      26\n",
      "SMS                        23\n",
      "Name: How did you hear about X Education, dtype: int64\n",
      "-----------------------------------------------\n",
      "Unique values count:\n",
      " Better Career Prospects      6528\n",
      "Other                        2710\n",
      "Flexibility & Convenience       2\n",
      "Name: What matters most to you in choosing a course, dtype: int64\n",
      "-----------------------------------------------\n",
      "Unique values count:\n",
      " Other Leads                    7342\n",
      "Potential Lead                 1613\n",
      "Student of SomeSchool           241\n",
      "Lateral Student                  24\n",
      "Dual Specialization Student      20\n",
      "Name: Lead Profile, dtype: int64\n",
      "-----------------------------------------------\n",
      "Unique values count:\n",
      " Other Cities                   4355\n",
      "Mumbai                         3222\n",
      "Thane & Outskirts               752\n",
      "Other Cities of Maharashtra     457\n",
      "Other Metro Cities              380\n",
      "Tier II Cities                   74\n",
      "Name: City, dtype: int64\n",
      "-----------------------------------------------\n",
      "Unique values count:\n",
      " 0.0      2189\n",
      "2.0      1680\n",
      "3.0      1443\n",
      "4.0      1120\n",
      "5.0       783\n",
      "6.0       466\n",
      "1.0       395\n",
      "7.0       309\n",
      "8.0       224\n",
      "9.0       164\n",
      "10.0      114\n",
      "11.0       86\n",
      "13.0       48\n",
      "12.0       45\n",
      "14.0       36\n",
      "16.0       21\n",
      "15.0       18\n",
      "17.0       16\n",
      "18.0       15\n",
      "20.0       12\n",
      "19.0        9\n",
      "21.0        6\n",
      "23.0        6\n",
      "24.0        5\n",
      "25.0        5\n",
      "27.0        5\n",
      "22.0        3\n",
      "29.0        2\n",
      "26.0        2\n",
      "28.0        2\n",
      "43.0        1\n",
      "115.0       1\n",
      "74.0        1\n",
      "55.0        1\n",
      "54.0        1\n",
      "141.0       1\n",
      "42.0        1\n",
      "41.0        1\n",
      "32.0        1\n",
      "30.0        1\n",
      "251.0       1\n",
      "Name: TotalVisits, dtype: int64\n",
      "-----------------------------------------------\n",
      "Unique values count:\n",
      " 0.00    2189\n",
      "2.00    1932\n",
      "3.00    1196\n",
      "4.00     896\n",
      "1.00     651\n",
      "        ... \n",
      "1.45       1\n",
      "6.33       1\n",
      "2.56       1\n",
      "8.33       1\n",
      "1.64       1\n",
      "Name: Page Views Per Visit, Length: 114, dtype: int64\n",
      "-----------------------------------------------\n"
     ]
    }
   ],
   "source": [
    "if IS_TEST_MODE:\n",
    "    features = [\"How did you hear about X Education\", \"What matters most to you in choosing a course\", \"Lead Profile\", \"City\",\"TotalVisits\",\"Page Views Per Visit\"]\n",
    "    mapping = {\"Lead Profile\":\"Other Leads\", \"City\":\"Other Cities\", \"TotalVisits\": int(ls_df.loc[ls_df[\"TotalVisits\"]!= nan_replacment, \"TotalVisits\"].mean()), \"Page Views Per Visit\": int(ls_df.loc[ls_df[\"Page Views Per Visit\"]!= nan_replacment, \"Page Views Per Visit\"].mean() )}\n",
    "    print(mapping)\n",
    "    map_df = map_nan_replacment_in_features(ls_df,features,mapping)\n",
    "    for f in features:\n",
    "        try:\n",
    "            print(\"Unique values count:\\n\",map_df[f].value_counts(dropna = False))\n",
    "            print(\"-----------------------------------------------\")\n",
    "        except:\n",
    "            pass"
   ]
  },
  {
   "cell_type": "code",
   "execution_count": 243,
   "metadata": {
    "pycharm": {
     "name": "#%%\n"
    }
   },
   "outputs": [
    {
     "name": "stdout",
     "output_type": "stream",
     "text": [
      "   Other  Multiple Sources  Social Media  Direct Advertisement  \\\n",
      "0      0                 0             0                     0   \n",
      "1      0                 0             0                     0   \n",
      "2      0                 0             0                     0   \n",
      "3      0                 0             0                     0   \n",
      "4      0                 0             0                     0   \n",
      "\n",
      "   Newspaper/Magazine  \n",
      "0                   0  \n",
      "1                   0  \n",
      "2                   0  \n",
      "3                   0  \n",
      "4                   0  \n"
     ]
    }
   ],
   "source": [
    "if IS_TEST_MODE:\n",
    "    newf_df = new_featuers_with_zeros(map_df, ['Other','Multiple Sources',\"Social Media\",\"Direct Advertisement\",\"Newspaper/Magazine\"])\n",
    "    print(newf_df.loc[:,['Other','Multiple Sources',\"Social Media\",\"Direct Advertisement\",\"Newspaper/Magazine\"]].head(5))"
   ]
  },
  {
   "cell_type": "code",
   "execution_count": 244,
   "metadata": {
    "pycharm": {
     "name": "#%%\n"
    }
   },
   "outputs": [],
   "source": [
    "if IS_TEST_MODE:\n",
    "    merge_df = merge_and_drop_columns(newf_df)\n",
    "    merge_df = change_digital_advertisement_name(merge_df)\n",
    "    merge_df.columns"
   ]
  },
  {
   "cell_type": "code",
   "execution_count": 245,
   "metadata": {
    "pycharm": {
     "name": "#%%\n"
    }
   },
   "outputs": [
    {
     "name": "stdout",
     "output_type": "stream",
     "text": [
      "Index(['Lead Number', 'Lead Origin', 'Lead Source', 'Do Not Email',\n",
      "       'Do Not Call', 'Converted', 'TotalVisits',\n",
      "       'Total Time Spent on Website', 'Page Views Per Visit', 'Last Activity',\n",
      "       'Country', 'Specialization', 'What is your current occupation',\n",
      "       'What matters most to you in choosing a course', 'Search',\n",
      "       'X Education Forums', 'Advertisement', 'Through Recommendations',\n",
      "       'Receive More Updates About Our Courses', 'Tags', 'Lead Quality',\n",
      "       'Update me on Supply Chain Content', 'Get updates on DM Content',\n",
      "       'Lead Profile', 'City', 'Asymmetrique Activity Index',\n",
      "       'Asymmetrique Profile Index', 'Asymmetrique Activity Score',\n",
      "       'Asymmetrique Profile Score',\n",
      "       'I agree to pay the amount through cheque',\n",
      "       'A free copy of Mastering The Interview', 'Last Notable Activity',\n",
      "       'Other', 'Multiple Sources', 'Social Media', 'Direct Advertisement',\n",
      "       'Newspaper/Magazine'],\n",
      "      dtype='object')\n"
     ]
    }
   ],
   "source": [
    "if IS_TEST_MODE:\n",
    "    feature_split = {\n",
    "        \"Online Search\": \"Search\",\n",
    "        \"Word Of Mouth\" : \"Through Recommendations\",\n",
    "        \"Student of SomeSchool\" : \"Through Recommendations\",\n",
    "        \"Other\": \"Other\",\n",
    "        \"Multiple Sources\": \"Multiple Sources\",\n",
    "        \"Advertisements\" : \"Advertisement\",\n",
    "        \"Social Media\" : \"Social Media\",\n",
    "        \"SMS\" : \"Direct Advertisement\",\n",
    "        \"Email\" : \"Direct Advertisement\"\n",
    "    }\n",
    "    split_df=split_feature_to_other_features_and_drop(merge_df,feature_split)\n",
    "    print(split_df.columns)"
   ]
  },
  {
   "cell_type": "code",
   "execution_count": 246,
   "metadata": {
    "pycharm": {
     "name": "#%%\n"
    }
   },
   "outputs": [
    {
     "name": "stdout",
     "output_type": "stream",
     "text": [
      "Lead Number : \t False False\n",
      "Lead Origin : \t False False\n",
      "Lead Source : \t False False\n",
      "Do Not Email : \t False False\n",
      "Do Not Call : \t False False\n",
      "Converted : \t False False\n",
      "TotalVisits : \t False False\n",
      "Total Time Spent on Website : \t False False\n",
      "Page Views Per Visit : \t False False\n",
      "Last Activity : \t True False\n",
      "Country : \t False False\n",
      "Specialization : \t False False\n",
      "What is your current occupation : \t False False\n",
      "What matters most to you in choosing a course : \t False False\n",
      "Search : \t False False\n",
      "X Education Forums : \t False False\n",
      "Advertisement : \t False False\n",
      "Through Recommendations : \t False False\n",
      "Receive More Updates About Our Courses : \t False False\n",
      "Tags : \t False False\n",
      "Lead Quality : \t False False\n",
      "Update me on Supply Chain Content : \t False False\n",
      "Get updates on DM Content : \t False False\n",
      "Lead Profile : \t False False\n",
      "City : \t False False\n",
      "Asymmetrique Activity Index : \t True False\n",
      "Asymmetrique Profile Index : \t True False\n",
      "Asymmetrique Activity Score : \t True False\n",
      "Asymmetrique Profile Score : \t True False\n",
      "I agree to pay the amount through cheque : \t False False\n",
      "A free copy of Mastering The Interview : \t False False\n",
      "Last Notable Activity : \t False False\n",
      "Other : \t False False\n",
      "Multiple Sources : \t False False\n",
      "Social Media : \t False False\n",
      "Direct Advertisement : \t False False\n",
      "Newspaper/Magazine : \t False False\n"
     ]
    }
   ],
   "source": [
    "if IS_TEST_MODE:\n",
    "    for feature in split_df.columns:\n",
    "        unique = split_df[feature].unique()\n",
    "        print(feature,\": \\t\",nan_replacment in unique, np.nan in unique)"
   ]
  },
  {
   "cell_type": "code",
   "execution_count": 247,
   "metadata": {
    "pycharm": {
     "name": "#%%\n"
    }
   },
   "outputs": [
    {
     "name": "stdout",
     "output_type": "stream",
     "text": [
      "Empty DataFrame\n",
      "Columns: [Lead Number, Lead Origin, Lead Source, Do Not Email, Do Not Call, Converted, TotalVisits, Total Time Spent on Website, Page Views Per Visit, Last Activity, Country, Specialization, What is your current occupation, What matters most to you in choosing a course, Search, X Education Forums, Advertisement, Through Recommendations, Receive More Updates About Our Courses, Tags, Lead Quality, Update me on Supply Chain Content, Get updates on DM Content, Lead Profile, City, Asymmetrique Activity Index, Asymmetrique Profile Index, Asymmetrique Activity Score, Asymmetrique Profile Score, I agree to pay the amount through cheque, A free copy of Mastering The Interview, Last Notable Activity, Other, Multiple Sources, Social Media, Direct Advertisement, Newspaper/Magazine]\n",
      "Index: []\n",
      "\n",
      "[0 rows x 37 columns]\n",
      "Index(['Lead Origin', 'Lead Source', 'Do Not Email', 'Do Not Call',\n",
      "       'Converted', 'TotalVisits', 'Total Time Spent on Website',\n",
      "       'Page Views Per Visit', 'Country', 'Specialization',\n",
      "       'What is your current occupation',\n",
      "       'What matters most to you in choosing a course', 'Search',\n",
      "       'X Education Forums', 'Advertisement', 'Through Recommendations',\n",
      "       'Lead Quality', 'Lead Profile', 'Asymmetrique Activity Index',\n",
      "       'Asymmetrique Profile Index', 'Asymmetrique Activity Score',\n",
      "       'Asymmetrique Profile Score', 'A free copy of Mastering The Interview',\n",
      "       'Last Notable Activity', 'Other', 'Multiple Sources', 'Social Media',\n",
      "       'Direct Advertisement', 'Newspaper/Magazine'],\n",
      "      dtype='object')\n"
     ]
    }
   ],
   "source": [
    "if IS_TEST_MODE:\n",
    "    print(split_df[split_df.isnull().any(axis=1)])\n",
    "    drop_df = drop_featuers(split_df, [\"Receive More Updates About Our Courses\",\n",
    "                                    \"Lead Number\",\n",
    "                                    \"City\",\n",
    "                                    \"Last Activity\",\n",
    "                                    \"Tags\",\n",
    "                                    \"Update me on Supply Chain Content\",\n",
    "                                    \"Get updates on DM Content\",\n",
    "                                    \"I agree to pay the amount through cheque\"])\n",
    "    print(drop_df.columns)"
   ]
  },
  {
   "cell_type": "code",
   "execution_count": 248,
   "metadata": {
    "pycharm": {
     "name": "#%%\n"
    }
   },
   "outputs": [
    {
     "name": "stdout",
     "output_type": "stream",
     "text": [
      "(9240, 29)\n",
      "(9240, 29)\n",
      "(9240, 86)\n",
      "(9240, 86)\n",
      "Empty DataFrame\n",
      "Columns: [Do Not Email, Do Not Call, Converted, TotalVisits, Total Time Spent on Website, Page Views Per Visit, Search, X Education Forums, Advertisement, Through Recommendations, Lead Quality, Asymmetrique Activity Index, Asymmetrique Profile Index, Asymmetrique Activity Score, Asymmetrique Profile Score, A free copy of Mastering The Interview, Other, Multiple Sources, Social Media, Direct Advertisement, Newspaper/Magazine, Lead Origin - API, Lead Origin - Landing Page Submission, Lead Origin - Lead Add Form, Lead Origin - Lead Import, Lead Origin - Quick Add Form, Lead Source - Direct Traffic, Lead Source - Facebook, Lead Source - Google, Lead Source - Olark Chat, Lead Source - Organic Search, Lead Source - Other, Lead Source - Reference, Lead Source - Referral Sites, Lead Source - Welingak Website, Country - India, Country - Other, Specialization - Banking, Investment And Insurance, Specialization - Business Administration, Specialization - E-Business, Specialization - E-COMMERCE, Specialization - Finance Management, Specialization - Healthcare Management, Specialization - Hospitality Management, Specialization - Human Resource Management, Specialization - IT Projects Management, Specialization - International Business, Specialization - Marketing Management, Specialization - Media and Advertising, Specialization - Operations Management, Specialization - Others, Specialization - Retail Management, Specialization - Rural and Agribusiness, Specialization - Services Excellence, Specialization - Supply Chain Management, Specialization - Travel and Tourism, What is your current occupation - Businessman, What is your current occupation - Housewife, What is your current occupation - Other, What is your current occupation - Student, What is your current occupation - Unemployed, What is your current occupation - Working Professional, What matters most to you in choosing a course - Better Career Prospects, What matters most to you in choosing a course - Flexibility & Convenience, What matters most to you in choosing a course - Other, Lead Profile - Dual Specialization Student, Lead Profile - Lateral Student, Lead Profile - Other Leads, Lead Profile - Potential Lead, Lead Profile - Student of SomeSchool, Last Notable Activity - Approached upfront, Last Notable Activity - Email Bounced, Last Notable Activity - Email Link Clicked, Last Notable Activity - Email Marked Spam, Last Notable Activity - Email Opened, Last Notable Activity - Email Received, Last Notable Activity - Form Submitted on Website, Last Notable Activity - Had a Phone Conversation, Last Notable Activity - Modified, Last Notable Activity - Olark Chat Conversation, Last Notable Activity - Page Visited on Website, Last Notable Activity - Resubscribed to emails, Last Notable Activity - SMS Sent, Last Notable Activity - Unreachable, Last Notable Activity - Unsubscribed, Last Notable Activity - View in browser link Clicked]\n",
      "Index: []\n",
      "\n",
      "[0 rows x 86 columns]\n"
     ]
    }
   ],
   "source": [
    "if IS_TEST_MODE:\n",
    "    print(drop_df.shape)\n",
    "    dddf = step_2_pipline(step_1_pipline(get_data()))\n",
    "    print(dddf.shape)\n",
    "    df_ohe = one_hot_featuers(drop_df)\n",
    "    print(df_ohe.shape)\n",
    "    print(one_hot_featuers(dddf).shape)\n",
    "    print(df_ohe[df_ohe.isnull().any(axis=1)])"
   ]
  },
  {
   "cell_type": "code",
   "execution_count": 249,
   "metadata": {
    "pycharm": {
     "name": "#%%\n"
    }
   },
   "outputs": [
    {
     "name": "stdout",
     "output_type": "stream",
     "text": [
      "2.0    7946\n",
      "3.0     903\n",
      "1.0     391\n",
      "Name: Asymmetrique Activity Index, dtype: int64\n",
      "14.0    5878\n",
      "15.0    1293\n",
      "13.0     775\n",
      "16.0     549\n",
      "17.0     349\n",
      "12.0     225\n",
      "11.0      95\n",
      "10.0      57\n",
      "9.0        9\n",
      "18.0       5\n",
      "8.0        4\n",
      "7.0        1\n",
      "Name: Asymmetrique Activity Score, dtype: int64\n",
      "2.0    5944\n",
      "3.0    3265\n",
      "1.0      31\n",
      "Name: Asymmetrique Profile Index, dtype: int64\n",
      "15.0    4915\n",
      "18.0    2133\n",
      "16.0     599\n",
      "17.0     579\n",
      "20.0     308\n",
      "19.0     245\n",
      "14.0     226\n",
      "13.0     204\n",
      "12.0      22\n",
      "11.0       9\n",
      "Name: Asymmetrique Profile Score, dtype: int64\n",
      "(9240, 86)\n"
     ]
    }
   ],
   "source": [
    "if IS_TEST_MODE:\n",
    "    imp_df = data_imputer_on_asymmetrique_features(df_ohe)\n",
    "    print(imp_df[\"Asymmetrique Activity Index\"].value_counts(dropna = False))\n",
    "    print(imp_df[\"Asymmetrique Activity Score\"].value_counts(dropna = False))\n",
    "    print(imp_df[\"Asymmetrique Profile Index\"].value_counts(dropna = False))\n",
    "    print(imp_df[\"Asymmetrique Profile Score\"].value_counts(dropna = False))\n",
    "    print(imp_df.shape)"
   ]
  },
  {
   "cell_type": "code",
   "execution_count": 250,
   "metadata": {
    "pycharm": {
     "name": "#%%\n"
    }
   },
   "outputs": [
    {
     "name": "stdout",
     "output_type": "stream",
     "text": [
      "2.0  :  14.0\n",
      "3.0  :  16.0\n",
      "1.0  :  12.0\n",
      "---------\n",
      "2.0  :  15.0\n",
      "3.0  :  18.0\n",
      "1.0  :  12.0\n"
     ]
    }
   ],
   "source": [
    "if IS_TEST_MODE:\n",
    "    for ac_index in imp_df[\"Asymmetrique Activity Index\"].unique():\n",
    "         print(ac_index,\" : \",df_ohe.loc[(imp_df[\"Asymmetrique Activity Index\"] == ac_index) & (df_ohe[\"Asymmetrique Activity Score\"] != nan_replacment)][\"Asymmetrique Activity Score\"].median())\n",
    "    print(\"---------\")\n",
    "    for ac_index in imp_df[\"Asymmetrique Profile Index\"].unique():\n",
    "         print(ac_index,\" : \",df_ohe.loc[(imp_df[\"Asymmetrique Profile Index\"] == ac_index) & (df_ohe[\"Asymmetrique Profile Score\"] != nan_replacment)][\"Asymmetrique Profile Score\"].median())    "
   ]
  },
  {
   "cell_type": "code",
   "execution_count": null,
   "metadata": {},
   "outputs": [],
   "source": []
  }
 ],
 "metadata": {
  "kernelspec": {
   "display_name": "Python 3",
   "language": "python",
   "name": "python3"
  },
  "language_info": {
   "codemirror_mode": {
    "name": "ipython",
    "version": 3
   },
   "file_extension": ".py",
   "mimetype": "text/x-python",
   "name": "python",
   "nbconvert_exporter": "python",
   "pygments_lexer": "ipython3",
   "version": "3.8.5"
  }
 },
 "nbformat": 4,
 "nbformat_minor": 4
}
