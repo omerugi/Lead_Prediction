{
 "cells": [
  {
   "cell_type": "markdown",
   "metadata": {},
   "source": [
    "# To Do List:"
   ]
  },
  {
   "cell_type": "markdown",
   "metadata": {},
   "source": [
    "## Plot Data:\n",
    "- [x] Plot basic data on the features.\n",
    "\n",
    "## Modify Features:\n",
    "### First step - Replace NaN values and Encode features:\n",
    "- [x] NaN to missing\n",
    "- [x] Boolean to 0,1\n",
    "- [x] Asymmetrique Index Encoding - Replace the low,mid,high with 1,2,3.\n",
    "- [x] Lead Quality Encoding - Replace Worst, Low in Relevance, Not Sure, Might be, and High in Relevance with 1-5.\n",
    "\n",
    "### Second step - Modify Features:\n",
    "- [x] Lead Source : \n",
    "    - google to Google\n",
    "    - less then 50 to Other\n",
    "- [x] Countries - Split the feature to India and Other\n",
    "- [x] How did you hear about X Education - Missing to Other\n",
    "- [x] What matters most to you in choosing a course - Missing to Other\n",
    "- [x] Lead Profile - Missing to Other Leads\n",
    "- [x] City - Missing to Other Cities.\n",
    "\n",
    "- [x] TotalVisits - Missing to Mean (Or use model)\n",
    "- [x] Page Views Per Visit - Missing to Mean (Or use model)\n",
    "- [x] Create Featuers:\n",
    "    - Other\n",
    "    - Multiple Sources\n",
    "    - Social Media\n",
    "    - Direct Advertisement\n",
    "    - Advertisement (replace Digital Advertisement)\n",
    "- [x] Merge & Drop:\n",
    "    - Magazine + Newspaper Article + Newspaper => Newspaper/Magazine.\n",
    "- [x] Map \"How did you hear about X Education\" to Features:\n",
    "    - Online Search => Search\n",
    "    - Word Of Mouth, Student of SomeSchool => Through Recommendations\n",
    "    - Other => (new feature) Other\n",
    "    - Multiple Sources => (new feature) Multiple Sources\n",
    "    - Advertisements => (new feature) Advertisement\n",
    "    - Social Media => (new feature) Social Media\n",
    "    - SMS, Email => (new feature) Direct Advertisement\n",
    "- [x] Drop \"Receive More Updates About Our Courses\" -> All \"No\", useless.\n",
    "- [x] Drop \"Lead Number\" -> Will not give us insights.\n",
    "- [x] \"City\" -> Lot's of \"other\" and missing data.\n",
    "- [x] \"Last Activity\" -> Duplicated.\n",
    "- [x] \"Tag\" -> Given after a call, will not be filled for new lead.\n",
    "- [ ] Asymmetrique Features - Fill in using imputer.\n",
    "\n",
    " \n",
    "\n"
   ]
  },
  {
   "cell_type": "code",
   "execution_count": null,
   "metadata": {},
   "outputs": [],
   "source": []
  }
 ],
 "metadata": {
  "kernelspec": {
   "display_name": "Python 3",
   "language": "python",
   "name": "python3"
  },
  "language_info": {
   "codemirror_mode": {
    "name": "ipython",
    "version": 3
   },
   "file_extension": ".py",
   "mimetype": "text/x-python",
   "name": "python",
   "nbconvert_exporter": "python",
   "pygments_lexer": "ipython3",
   "version": "3.8.5"
  }
 },
 "nbformat": 4,
 "nbformat_minor": 4
}
